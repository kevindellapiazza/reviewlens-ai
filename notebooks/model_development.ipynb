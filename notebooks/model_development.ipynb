{
 "cells": [
  {
   "cell_type": "markdown",
   "id": "936a988a",
   "metadata": {},
   "source": [
    "# ReviewLens AI: Model Development and Validation\n",
    "\n",
    "**Author:** Kevin Della Piazza\n",
    "**Date:** October 2025\n",
    "\n",
    "## 1. Introduction\n",
    "This notebook documents the development and validation process for the core AI models of the ReviewLens platform. The objective is to test a suite of four distinct NLP models on a sample of the dataset to validate their effectiveness and to prototype the foundational Python code for the production AWS Lambda functions. This notebook serves as a professional artifact detailing the data science workflow, from data preparation to model evaluation.\n",
    "\n",
    "### AI Models Tested:\n",
    "1.  **Sentiment Analysis:** For overall positive/negative classification.\n",
    "2.  **Zero-Shot Classification:** For dynamic topic tagging.\n",
    "3.  **Aspect-Based Sentiment Analysis (ABSA):** For fine-grained sentiment on specific features.\n",
    "4.  **Topic Modeling:** For discovering latent themes in the text corpus."
   ]
  },
  {
   "cell_type": "code",
   "execution_count": 9,
   "id": "24226fb1",
   "metadata": {},
   "outputs": [
    {
     "name": "stdout",
     "output_type": "stream",
     "text": [
      "Libraries imported successfully.\n"
     ]
    }
   ],
   "source": [
    "# --- Core Libraries ---\n",
    "import pandas as pd\n",
    "import numpy as np\n",
    "from tqdm.auto import tqdm\n",
    "import warnings\n",
    "from IPython.display import display\n",
    "import re\n",
    "import stopit\n",
    "\n",
    "# --- AI Libraries ---\n",
    "from transformers import pipeline\n",
    "from pyabsa import ATEPCCheckpointManager\n",
    "from bertopic import BERTopic\n",
    "\n",
    "# --- Validation ---\n",
    "from sklearn.metrics import accuracy_score, classification_report\n",
    "\n",
    "# --- Configuration ---\n",
    "# Suppress ignorable warnings for a cleaner output\n",
    "warnings.filterwarnings('ignore')\n",
    "pd.set_option('display.max_columns', None)\n",
    "pd.set_option('display.max_colwidth', 100)\n",
    "tqdm.pandas()\n",
    "\n",
    "print(\"Libraries imported successfully.\")"
   ]
  },
  {
   "cell_type": "markdown",
   "id": "4a09428c",
   "metadata": {},
   "source": [
    "## 2. Data Loading, Cleaning & Sanitization\n",
    "We load the raw dataset and apply the cleaning steps that will be replicated in our AWS pipeline. A text sanitization step is included to prevent errors from special characters, making the code more robust for production."
   ]
  },
  {
   "cell_type": "code",
   "execution_count": 10,
   "id": "6c177440",
   "metadata": {},
   "outputs": [
    {
     "name": "stdout",
     "output_type": "stream",
     "text": [
      "Dataset loaded successfully with 23486 rows.\n",
      "Starting data cleaning...\n",
      "Data cleaned and sanitized. 22628 rows remaining.\n"
     ]
    }
   ],
   "source": [
    "# Load the raw dataset\n",
    "try:\n",
    "    # Use a relative path to ensure portability\n",
    "    file_path = '../data/reviews.csv'\n",
    "    df = pd.read_csv(file_path)\n",
    "    print(f\"Dataset loaded successfully with {len(df)} rows.\")\n",
    "\n",
    "    # --- Data Cleaning ---\n",
    "    print(\"Starting data cleaning...\")\n",
    "    df_cleaned = df.drop('Unnamed: 0', axis=1, errors='ignore')\n",
    "    df_cleaned.dropna(subset=['Review Text'], inplace=True)\n",
    "    df_cleaned['Title'] = df_cleaned['Title'].fillna('')\n",
    "    df_cleaned['full_review_text'] = df_cleaned['Title'] + ' ' + df_cleaned['Review Text']\n",
    "    df_cleaned.dropna(subset=['Division Name', 'Department Name', 'Class Name'], inplace=True)\n",
    "    \n",
    "    # --- Text Sanitization Function ---\n",
    "    def sanitize_text(text):\n",
    "        if not isinstance(text, str): return \"\"\n",
    "        # Replace ampersand, which was identified as a \"poison pill\" for ABSA\n",
    "        text = text.replace('&', 'and')\n",
    "        # Remove non-printable control characters\n",
    "        text = re.sub(r'[\\x00-\\x08\\x0b\\x0c\\x0e-\\x1f\\x7f-\\x9f]', '', text)\n",
    "        return text\n",
    "\n",
    "    # Apply sanitization to the main text column\n",
    "    df_cleaned['full_review_text'] = df_cleaned['full_review_text'].apply(sanitize_text)\n",
    "    print(f\"Data cleaned and sanitized. {len(df_cleaned)} rows remaining.\")\n",
    "\n",
    "except FileNotFoundError:\n",
    "    print(\"Error: reviews.csv not found. Please ensure the file is in the 'data/' directory.\")"
   ]
  },
  {
   "cell_type": "markdown",
   "id": "8afe0673",
   "metadata": {},
   "source": [
    "## 3. Sample Creation\n",
    "To ensure rapid development and testing, we create two distinct samples:\n",
    "* A **small sample (100 reviews)** for fast, iterative tests on row-level models.\n",
    "* A **larger sample (2000 reviews)** for Topic Modeling, which requires a larger corpus to generate meaningful results."
   ]
  },
  {
   "cell_type": "code",
   "execution_count": 11,
   "id": "53855954",
   "metadata": {},
   "outputs": [
    {
     "name": "stdout",
     "output_type": "stream",
     "text": [
      "Created 'df_sample_fast' with 100 reviews for rapid testing.\n",
      "Created 'df_sample_topic' with 2000 reviews for Topic Modeling.\n"
     ]
    }
   ],
   "source": [
    "if 'df_cleaned' in locals() and not df_cleaned.empty:\n",
    "    # Small sample for fast, iterative tests\n",
    "    df_sample_fast = df_cleaned.sample(100, random_state=42).copy()\n",
    "    print(f\"Created 'df_sample_fast' with {len(df_sample_fast)} reviews for rapid testing.\")\n",
    "\n",
    "    # Larger sample required for meaningful Topic Modeling\n",
    "    df_sample_topic = df_cleaned.sample(2000, random_state=42).copy()\n",
    "    print(f\"Created 'df_sample_topic' with {len(df_sample_topic)} reviews for Topic Modeling.\")"
   ]
  },
  {
   "cell_type": "markdown",
   "id": "27debe93",
   "metadata": {},
   "source": [
    "## 4. AI Model Development & Validation\n",
    "\n",
    "### 4.1. Sentiment Analysis\n",
    "* **Business Question:** Are our customers generally happy or unhappy?\n",
    "* **Model Chosen:** `distilbert-base-uncased-finetuned-sst-2-english`\n",
    "* **Justification:** Chosen for its excellent balance of speed and accuracy, making it ideal for scalable, serverless environments."
   ]
  },
  {
   "cell_type": "code",
   "execution_count": 12,
   "id": "afab0db6",
   "metadata": {},
   "outputs": [
    {
     "name": "stdout",
     "output_type": "stream",
     "text": [
      "Loading Sentiment Analysis model...\n",
      "Applying Sentiment Analysis to the fast sample (100 reviews)...\n"
     ]
    },
    {
     "name": "stderr",
     "output_type": "stream",
     "text": [
      "100%|██████████| 100/100 [00:02<00:00, 42.96it/s]\n"
     ]
    },
    {
     "name": "stdout",
     "output_type": "stream",
     "text": [
      "Sentiment Analysis complete.\n",
      "\n",
      "--- Model Validation ---\n",
      "Sentiment Model Accuracy on Sample: 87.00%\n",
      "\n",
      "Classification Report:\n",
      "              precision    recall  f1-score   support\n",
      "\n",
      "    NEGATIVE       0.68      0.88      0.76        24\n",
      "    POSITIVE       0.96      0.87      0.91        76\n",
      "\n",
      "    accuracy                           0.87       100\n",
      "   macro avg       0.82      0.87      0.84       100\n",
      "weighted avg       0.89      0.87      0.88       100\n",
      "\n"
     ]
    }
   ],
   "source": [
    "print(\"Loading Sentiment Analysis model...\")\n",
    "sentiment_pipeline = pipeline(\"sentiment-analysis\", model=\"distilbert-base-uncased-finetuned-sst-2-english\")\n",
    "\n",
    "def safe_get_sentiment(text):\n",
    "    \"\"\"Applies sentiment analysis with error handling.\"\"\"\n",
    "    try:\n",
    "        return sentiment_pipeline(text[:512])[0]['label']\n",
    "    except Exception as e:\n",
    "        print(f\"--> SENTIMENT FAILED on review: '{text[:50]}...' | Error: {e}\")\n",
    "        return \"ERROR\"\n",
    "\n",
    "print(f\"Applying Sentiment Analysis to the fast sample ({len(df_sample_fast)} reviews)...\")\n",
    "df_sample_fast['sentiment_prediction'] = df_sample_fast['full_review_text'].progress_apply(safe_get_sentiment)\n",
    "print(\"Sentiment Analysis complete.\")\n",
    "\n",
    "# --- Quantitative Validation ---\n",
    "print(\"\\n--- Model Validation ---\")\n",
    "# Define \"ground truth\" based on user ratings (e.g., > 3 stars is positive)\n",
    "df_sample_fast['true_sentiment'] = np.where(df_sample_fast['Rating'] > 3, 'POSITIVE', 'NEGATIVE')\n",
    "\n",
    "# Calculate accuracy\n",
    "accuracy = accuracy_score(df_sample_fast['true_sentiment'], df_sample_fast['sentiment_prediction'])\n",
    "print(f\"Sentiment Model Accuracy on Sample: {accuracy:.2%}\")\n",
    "\n",
    "# Display a detailed classification report\n",
    "print(\"\\nClassification Report:\")\n",
    "print(classification_report(df_sample_fast['true_sentiment'], df_sample_fast['sentiment_prediction']))"
   ]
  },
  {
   "cell_type": "markdown",
   "id": "8f361c57",
   "metadata": {},
   "source": [
    "### 4.2. Zero-Shot Classification\n",
    "* **Business Question:** What specific topics (e.g., 'price', 'shipping') are customers talking about?\n",
    "* **Model Chosen:** `facebook/bart-large-mnli`\n",
    "* **Justification:** This state-of-the-art model allows for dynamic classification against arbitrary labels, providing a powerful tool for interactive hypothesis testing."
   ]
  },
  {
   "cell_type": "code",
   "execution_count": 13,
   "id": "ea3ce00e",
   "metadata": {},
   "outputs": [
    {
     "name": "stdout",
     "output_type": "stream",
     "text": [
      "Loading Zero-Shot Classification model...\n",
      "Applying Zero-Shot Classification to the fast sample (100 reviews)...\n"
     ]
    },
    {
     "name": "stderr",
     "output_type": "stream",
     "text": [
      "100%|██████████| 100/100 [01:54<00:00,  1.15s/it]\n"
     ]
    },
    {
     "name": "stdout",
     "output_type": "stream",
     "text": [
      "Zero-Shot Classification complete.\n",
      "\n",
      "--- Qualitative Validation Examples ---\n"
     ]
    },
    {
     "data": {
      "text/html": [
       "<div>\n",
       "<style scoped>\n",
       "    .dataframe tbody tr th:only-of-type {\n",
       "        vertical-align: middle;\n",
       "    }\n",
       "\n",
       "    .dataframe tbody tr th {\n",
       "        vertical-align: top;\n",
       "    }\n",
       "\n",
       "    .dataframe thead th {\n",
       "        text-align: right;\n",
       "    }\n",
       "</style>\n",
       "<table border=\"1\" class=\"dataframe\">\n",
       "  <thead>\n",
       "    <tr style=\"text-align: right;\">\n",
       "      <th></th>\n",
       "      <th>full_review_text</th>\n",
       "      <th>zero_shot_topic</th>\n",
       "    </tr>\n",
       "  </thead>\n",
       "  <tbody>\n",
       "    <tr>\n",
       "      <th>8329</th>\n",
       "      <td>Change armpits I love, love this dress except for the armpits. if they had just made the armpits...</td>\n",
       "      <td>fit</td>\n",
       "    </tr>\n",
       "    <tr>\n",
       "      <th>17943</th>\n",
       "      <td>Awkward sweater I wanted this sweater to work but sadly it failed. first, the pink was way to sh...</td>\n",
       "      <td>fabric</td>\n",
       "    </tr>\n",
       "    <tr>\n",
       "      <th>2157</th>\n",
       "      <td>Best. tee. ever. Oh my! i love this tee. it is super soft. i love how it doesn't look like a sac...</td>\n",
       "      <td>quality</td>\n",
       "    </tr>\n",
       "    <tr>\n",
       "      <th>11456</th>\n",
       "      <td>Well-made but lacks structure I love the style of this swimsuit on the model. when i purchased i...</td>\n",
       "      <td>quality</td>\n",
       "    </tr>\n",
       "    <tr>\n",
       "      <th>14386</th>\n",
       "      <td>Strangely cut Was super excited to try this on, but had to go up 3 sizes from my normal 6 and th...</td>\n",
       "      <td>quality</td>\n",
       "    </tr>\n",
       "  </tbody>\n",
       "</table>\n",
       "</div>"
      ],
      "text/plain": [
       "                                                                                          full_review_text  \\\n",
       "8329   Change armpits I love, love this dress except for the armpits. if they had just made the armpits...   \n",
       "17943  Awkward sweater I wanted this sweater to work but sadly it failed. first, the pink was way to sh...   \n",
       "2157   Best. tee. ever. Oh my! i love this tee. it is super soft. i love how it doesn't look like a sac...   \n",
       "11456  Well-made but lacks structure I love the style of this swimsuit on the model. when i purchased i...   \n",
       "14386  Strangely cut Was super excited to try this on, but had to go up 3 sizes from my normal 6 and th...   \n",
       "\n",
       "      zero_shot_topic  \n",
       "8329              fit  \n",
       "17943          fabric  \n",
       "2157          quality  \n",
       "11456         quality  \n",
       "14386         quality  "
      ]
     },
     "metadata": {},
     "output_type": "display_data"
    }
   ],
   "source": [
    "print(\"Loading Zero-Shot Classification model...\")\n",
    "zero_shot_classifier = pipeline(\"zero-shot-classification\", model=\"facebook/bart-large-mnli\")\n",
    "\n",
    "candidate_labels = ['price', 'quality', 'shipping', 'customer service', 'fit', 'fabric']\n",
    "\n",
    "def safe_get_top_topic(review_text):\n",
    "    \"\"\"Applies zero-shot classification with error handling.\"\"\"\n",
    "    try:\n",
    "        return zero_shot_classifier(review_text, candidate_labels)['labels'][0]\n",
    "    except Exception as e:\n",
    "        print(f\"--> ZERO-SHOT FAILED on review: '{review_text[:50]}...' | Error: {e}\")\n",
    "        return \"ERROR\"\n",
    "\n",
    "print(f\"Applying Zero-Shot Classification to the fast sample ({len(df_sample_fast)} reviews)...\")\n",
    "df_sample_fast['zero_shot_topic'] = df_sample_fast['full_review_text'].progress_apply(safe_get_top_topic)\n",
    "print(\"Zero-Shot Classification complete.\")\n",
    "\n",
    "# --- Qualitative Validation ---\n",
    "print(\"\\n--- Qualitative Validation Examples ---\")\n",
    "display(df_sample_fast[['full_review_text', 'zero_shot_topic']].head())"
   ]
  },
  {
   "cell_type": "markdown",
   "id": "ca40e9ad",
   "metadata": {},
   "source": [
    "### 4.3. Aspect-Based Sentiment Analysis (ABSA)\n",
    "* **Business Question:** When customers discuss a topic, what specific *features* do they like or dislike?\n",
    "* **Model Chosen:** `pyabsa` library (pre-trained model)\n",
    "* **Justification:** We use this specialized library to extract fine-grained sentiment towards specific product features (aspects), offering actionable insights for product development."
   ]
  },
  {
   "cell_type": "code",
   "execution_count": 14,
   "id": "8f34ceb2",
   "metadata": {},
   "outputs": [
    {
     "name": "stdout",
     "output_type": "stream",
     "text": [
      "Loading Aspect-Based Sentiment Analysis model...\n",
      "[2025-10-07 17:36:29] (2.4.2) ********** Available ATEPC model checkpoints for Version:2.4.2 (this version) **********\n",
      "[2025-10-07 17:36:29] (2.4.2) ********** Available ATEPC model checkpoints for Version:2.4.2 (this version) **********\n",
      "[2025-10-07 17:36:29] (2.4.2) Downloading checkpoint:english \n",
      "[2025-10-07 17:36:29] (2.4.2) Notice: The pretrained model are used for testing, it is recommended to train the model on your own custom datasets\n",
      "[2025-10-07 17:36:29] (2.4.2) Checkpoint already downloaded, skip\n",
      "FindFile Warning --> multiple targets ['Aspect Term Extraction and Polarity Classification.FAST_LCF_ATEPC.result.json', 'checkpoints\\\\ATEPC_ENGLISH_CHECKPOINT\\\\fast_lcf_atepc_English_cdw_apcacc_82.36_apcf1_81.89_atef1_75.43\\\\fast_lcf_atepc.args.txt', 'checkpoints\\\\ATEPC_ENGLISH_CHECKPOINT\\\\fast_lcf_atepc_English_cdw_apcacc_82.36_apcf1_81.89_atef1_75.43\\\\fast_lcf_atepc.config', 'checkpoints\\\\ATEPC_ENGLISH_CHECKPOINT\\\\fast_lcf_atepc_English_cdw_apcacc_82.36_apcf1_81.89_atef1_75.43\\\\fast_lcf_atepc.state_dict', 'checkpoints\\\\ATEPC_ENGLISH_CHECKPOINT\\\\fast_lcf_atepc_English_cdw_apcacc_82.36_apcf1_81.89_atef1_75.43\\\\fast_lcf_atepc.tokenizer'] found, only return the shortest path: <Aspect Term Extraction and Polarity Classification.FAST_LCF_ATEPC.result.json>\n",
      "FindFile Warning --> multiple targets ['Aspect Term Extraction and Polarity Classification.FAST_LCF_ATEPC.result.json', 'checkpoints\\\\ATEPC_ENGLISH_CHECKPOINT\\\\fast_lcf_atepc_English_cdw_apcacc_82.36_apcf1_81.89_atef1_75.43\\\\fast_lcf_atepc.args.txt', 'checkpoints\\\\ATEPC_ENGLISH_CHECKPOINT\\\\fast_lcf_atepc_English_cdw_apcacc_82.36_apcf1_81.89_atef1_75.43\\\\fast_lcf_atepc.config', 'checkpoints\\\\ATEPC_ENGLISH_CHECKPOINT\\\\fast_lcf_atepc_English_cdw_apcacc_82.36_apcf1_81.89_atef1_75.43\\\\fast_lcf_atepc.state_dict', 'checkpoints\\\\ATEPC_ENGLISH_CHECKPOINT\\\\fast_lcf_atepc_English_cdw_apcacc_82.36_apcf1_81.89_atef1_75.43\\\\fast_lcf_atepc.tokenizer'] found, only return the shortest path: <Aspect Term Extraction and Polarity Classification.FAST_LCF_ATEPC.result.json>\n",
      "[2025-10-07 17:36:30] (2.4.2) ********** Available ATEPC model checkpoints for Version:2.4.2 (this version) **********\n",
      "[2025-10-07 17:36:30] (2.4.2) ********** Available ATEPC model checkpoints for Version:2.4.2 (this version) **********\n",
      "[2025-10-07 17:36:30] (2.4.2) Checkpoint: is not found, you can raise an issue for requesting shares of checkpoints\n",
      "[2025-10-07 17:36:30] (2.4.2) No checkpoint found in Model Hub for task: \n",
      "FindFile Warning --> multiple targets ['01_data_exploration.ipynb', 'Aspect Term Extraction and Polarity Classification.FAST_LCF_ATEPC.result.json', 'checkpoints.json', '.ipynb_checkpoints\\\\01_data_exploration-checkpoint.ipynb', 'checkpoints\\\\ATEPC_ENGLISH_CHECKPOINT\\\\fast_lcf_atepc_English_cdw_apcacc_82.36_apcf1_81.89_atef1_75.43\\\\fast_lcf_atepc.args.txt', 'checkpoints\\\\ATEPC_ENGLISH_CHECKPOINT\\\\fast_lcf_atepc_English_cdw_apcacc_82.36_apcf1_81.89_atef1_75.43\\\\fast_lcf_atepc.config', 'checkpoints\\\\ATEPC_ENGLISH_CHECKPOINT\\\\fast_lcf_atepc_English_cdw_apcacc_82.36_apcf1_81.89_atef1_75.43\\\\fast_lcf_atepc.state_dict', 'checkpoints\\\\ATEPC_ENGLISH_CHECKPOINT\\\\fast_lcf_atepc_English_cdw_apcacc_82.36_apcf1_81.89_atef1_75.43\\\\fast_lcf_atepc.tokenizer'] found, only return the shortest path: <checkpoints.json>\n",
      "FindFile Warning --> multiple targets ['01_data_exploration.ipynb', 'Aspect Term Extraction and Polarity Classification.FAST_LCF_ATEPC.result.json', 'checkpoints.json', '.ipynb_checkpoints\\\\01_data_exploration-checkpoint.ipynb', 'checkpoints\\\\ATEPC_ENGLISH_CHECKPOINT\\\\fast_lcf_atepc_English_cdw_apcacc_82.36_apcf1_81.89_atef1_75.43\\\\fast_lcf_atepc.args.txt', 'checkpoints\\\\ATEPC_ENGLISH_CHECKPOINT\\\\fast_lcf_atepc_English_cdw_apcacc_82.36_apcf1_81.89_atef1_75.43\\\\fast_lcf_atepc.config', 'checkpoints\\\\ATEPC_ENGLISH_CHECKPOINT\\\\fast_lcf_atepc_English_cdw_apcacc_82.36_apcf1_81.89_atef1_75.43\\\\fast_lcf_atepc.state_dict', 'checkpoints\\\\ATEPC_ENGLISH_CHECKPOINT\\\\fast_lcf_atepc_English_cdw_apcacc_82.36_apcf1_81.89_atef1_75.43\\\\fast_lcf_atepc.tokenizer'] found, only return the shortest path: <checkpoints.json>\n",
      "[2025-10-07 17:36:30] (2.4.2) Load aspect extractor from \n",
      "[2025-10-07 17:36:30] (2.4.2) config: checkpoints\\ATEPC_ENGLISH_CHECKPOINT\\fast_lcf_atepc_English_cdw_apcacc_82.36_apcf1_81.89_atef1_75.43\\fast_lcf_atepc.config\n",
      "[2025-10-07 17:36:30] (2.4.2) state_dict: checkpoints\\ATEPC_ENGLISH_CHECKPOINT\\fast_lcf_atepc_English_cdw_apcacc_82.36_apcf1_81.89_atef1_75.43\\fast_lcf_atepc.state_dict\n",
      "[2025-10-07 17:36:30] (2.4.2) model: None\n",
      "[2025-10-07 17:36:30] (2.4.2) tokenizer: checkpoints\\ATEPC_ENGLISH_CHECKPOINT\\fast_lcf_atepc_English_cdw_apcacc_82.36_apcf1_81.89_atef1_75.43\\fast_lcf_atepc.tokenizer\n",
      "[2025-10-07 17:36:30] (2.4.2) Set Model Device: cpu\n",
      "[2025-10-07 17:36:30] (2.4.2) Device Name: Unknown\n"
     ]
    },
    {
     "name": "stderr",
     "output_type": "stream",
     "text": [
      "Some weights of the model checkpoint at microsoft/deberta-v3-base were not used when initializing DebertaV2Model: ['mask_predictions.classifier.weight', 'mask_predictions.classifier.bias', 'lm_predictions.lm_head.LayerNorm.weight', 'mask_predictions.LayerNorm.weight', 'mask_predictions.dense.bias', 'lm_predictions.lm_head.dense.bias', 'lm_predictions.lm_head.dense.weight', 'lm_predictions.lm_head.LayerNorm.bias', 'mask_predictions.dense.weight', 'mask_predictions.LayerNorm.bias', 'lm_predictions.lm_head.bias']\n",
      "- This IS expected if you are initializing DebertaV2Model from the checkpoint of a model trained on another task or with another architecture (e.g. initializing a BertForSequenceClassification model from a BertForPreTraining model).\n",
      "- This IS NOT expected if you are initializing DebertaV2Model from the checkpoint of a model that you expect to be exactly identical (initializing a BertForSequenceClassification model from a BertForSequenceClassification model).\n",
      "Special tokens have been added in the vocabulary, make sure the associated word embeddings are fine-tuned or trained.\n",
      "Special tokens have been added in the vocabulary, make sure the associated word embeddings are fine-tuned or trained.\n"
     ]
    },
    {
     "name": "stdout",
     "output_type": "stream",
     "text": [
      "Applying ABSA to the fast sample (100 reviews)...\n"
     ]
    },
    {
     "name": "stderr",
     "output_type": "stream",
     "text": [
      "  0%|          | 0/100 [00:00<?, ?it/s]"
     ]
    },
    {
     "name": "stdout",
     "output_type": "stream",
     "text": [
      "[2025-10-07 17:36:35] (2.4.2) The results of aspect term extraction have been saved in d:\\PROJECTS\\reviewlens-ai\\notebooks\\Aspect Term Extraction and Polarity Classification.FAST_LCF_ATEPC.result.json\n"
     ]
    },
    {
     "name": "stderr",
     "output_type": "stream",
     "text": [
      "  2%|▏         | 2/100 [00:01<00:53,  1.82it/s]"
     ]
    },
    {
     "name": "stdout",
     "output_type": "stream",
     "text": [
      "[2025-10-07 17:36:36] (2.4.2) The results of aspect term extraction have been saved in d:\\PROJECTS\\reviewlens-ai\\notebooks\\Aspect Term Extraction and Polarity Classification.FAST_LCF_ATEPC.result.json\n"
     ]
    },
    {
     "name": "stderr",
     "output_type": "stream",
     "text": [
      "  3%|▎         | 3/100 [00:02<01:33,  1.04it/s]"
     ]
    },
    {
     "name": "stdout",
     "output_type": "stream",
     "text": [
      "[2025-10-07 17:36:37] (2.4.2) The results of aspect term extraction have been saved in d:\\PROJECTS\\reviewlens-ai\\notebooks\\Aspect Term Extraction and Polarity Classification.FAST_LCF_ATEPC.result.json\n"
     ]
    },
    {
     "name": "stderr",
     "output_type": "stream",
     "text": [
      "  4%|▍         | 4/100 [00:03<01:26,  1.11it/s]"
     ]
    },
    {
     "name": "stdout",
     "output_type": "stream",
     "text": [
      "[2025-10-07 17:36:39] (2.4.2) The results of aspect term extraction have been saved in d:\\PROJECTS\\reviewlens-ai\\notebooks\\Aspect Term Extraction and Polarity Classification.FAST_LCF_ATEPC.result.json\n"
     ]
    },
    {
     "name": "stderr",
     "output_type": "stream",
     "text": [
      "  5%|▌         | 5/100 [00:05<01:48,  1.14s/it]"
     ]
    },
    {
     "name": "stdout",
     "output_type": "stream",
     "text": [
      "[2025-10-07 17:36:40] (2.4.2) The results of aspect term extraction have been saved in d:\\PROJECTS\\reviewlens-ai\\notebooks\\Aspect Term Extraction and Polarity Classification.FAST_LCF_ATEPC.result.json\n"
     ]
    },
    {
     "name": "stderr",
     "output_type": "stream",
     "text": [
      "  6%|▌         | 6/100 [00:06<01:58,  1.26s/it]"
     ]
    },
    {
     "name": "stdout",
     "output_type": "stream",
     "text": [
      "[2025-10-07 17:36:42] (2.4.2) The results of aspect term extraction have been saved in d:\\PROJECTS\\reviewlens-ai\\notebooks\\Aspect Term Extraction and Polarity Classification.FAST_LCF_ATEPC.result.json\n"
     ]
    },
    {
     "name": "stderr",
     "output_type": "stream",
     "text": [
      "  7%|▋         | 7/100 [00:08<02:04,  1.34s/it]"
     ]
    },
    {
     "name": "stdout",
     "output_type": "stream",
     "text": [
      "[2025-10-07 17:36:43] (2.4.2) The results of aspect term extraction have been saved in d:\\PROJECTS\\reviewlens-ai\\notebooks\\Aspect Term Extraction and Polarity Classification.FAST_LCF_ATEPC.result.json\n"
     ]
    },
    {
     "name": "stderr",
     "output_type": "stream",
     "text": [
      "  8%|▊         | 8/100 [00:09<01:54,  1.25s/it]"
     ]
    },
    {
     "name": "stdout",
     "output_type": "stream",
     "text": [
      "[2025-10-07 17:36:44] (2.4.2) The results of aspect term extraction have been saved in d:\\PROJECTS\\reviewlens-ai\\notebooks\\Aspect Term Extraction and Polarity Classification.FAST_LCF_ATEPC.result.json\n"
     ]
    },
    {
     "name": "stderr",
     "output_type": "stream",
     "text": [
      "  9%|▉         | 9/100 [00:10<02:06,  1.39s/it]"
     ]
    },
    {
     "name": "stdout",
     "output_type": "stream",
     "text": [
      "[2025-10-07 17:36:46] (2.4.2) The results of aspect term extraction have been saved in d:\\PROJECTS\\reviewlens-ai\\notebooks\\Aspect Term Extraction and Polarity Classification.FAST_LCF_ATEPC.result.json\n"
     ]
    },
    {
     "name": "stderr",
     "output_type": "stream",
     "text": [
      " 10%|█         | 10/100 [00:12<02:08,  1.42s/it]"
     ]
    },
    {
     "name": "stdout",
     "output_type": "stream",
     "text": [
      "[2025-10-07 17:36:47] (2.4.2) The results of aspect term extraction have been saved in d:\\PROJECTS\\reviewlens-ai\\notebooks\\Aspect Term Extraction and Polarity Classification.FAST_LCF_ATEPC.result.json\n"
     ]
    },
    {
     "name": "stderr",
     "output_type": "stream",
     "text": [
      " 11%|█         | 11/100 [00:13<02:09,  1.46s/it]"
     ]
    },
    {
     "name": "stdout",
     "output_type": "stream",
     "text": [
      "[2025-10-07 17:36:49] (2.4.2) The results of aspect term extraction have been saved in d:\\PROJECTS\\reviewlens-ai\\notebooks\\Aspect Term Extraction and Polarity Classification.FAST_LCF_ATEPC.result.json\n"
     ]
    },
    {
     "name": "stderr",
     "output_type": "stream",
     "text": [
      " 12%|█▏        | 12/100 [00:15<02:09,  1.47s/it]"
     ]
    },
    {
     "name": "stdout",
     "output_type": "stream",
     "text": [
      "[2025-10-07 17:36:50] (2.4.2) The results of aspect term extraction have been saved in d:\\PROJECTS\\reviewlens-ai\\notebooks\\Aspect Term Extraction and Polarity Classification.FAST_LCF_ATEPC.result.json\n"
     ]
    },
    {
     "name": "stderr",
     "output_type": "stream",
     "text": [
      " 13%|█▎        | 13/100 [00:16<01:56,  1.34s/it]"
     ]
    },
    {
     "name": "stdout",
     "output_type": "stream",
     "text": [
      "[2025-10-07 17:36:51] (2.4.2) The results of aspect term extraction have been saved in d:\\PROJECTS\\reviewlens-ai\\notebooks\\Aspect Term Extraction and Polarity Classification.FAST_LCF_ATEPC.result.json\n"
     ]
    },
    {
     "name": "stderr",
     "output_type": "stream",
     "text": [
      " 14%|█▍        | 14/100 [00:17<01:52,  1.31s/it]"
     ]
    },
    {
     "name": "stdout",
     "output_type": "stream",
     "text": [
      "[2025-10-07 17:36:53] (2.4.2) The results of aspect term extraction have been saved in d:\\PROJECTS\\reviewlens-ai\\notebooks\\Aspect Term Extraction and Polarity Classification.FAST_LCF_ATEPC.result.json\n"
     ]
    },
    {
     "name": "stderr",
     "output_type": "stream",
     "text": [
      " 15%|█▌        | 15/100 [00:19<02:02,  1.44s/it]"
     ]
    },
    {
     "name": "stdout",
     "output_type": "stream",
     "text": [
      "[2025-10-07 17:36:55] (2.4.2) The results of aspect term extraction have been saved in d:\\PROJECTS\\reviewlens-ai\\notebooks\\Aspect Term Extraction and Polarity Classification.FAST_LCF_ATEPC.result.json\n"
     ]
    },
    {
     "name": "stderr",
     "output_type": "stream",
     "text": [
      " 16%|█▌        | 16/100 [00:21<02:08,  1.54s/it]"
     ]
    },
    {
     "name": "stdout",
     "output_type": "stream",
     "text": [
      "[2025-10-07 17:36:56] (2.4.2) The results of aspect term extraction have been saved in d:\\PROJECTS\\reviewlens-ai\\notebooks\\Aspect Term Extraction and Polarity Classification.FAST_LCF_ATEPC.result.json\n"
     ]
    },
    {
     "name": "stderr",
     "output_type": "stream",
     "text": [
      " 17%|█▋        | 17/100 [00:22<01:59,  1.44s/it]"
     ]
    },
    {
     "name": "stdout",
     "output_type": "stream",
     "text": [
      "[2025-10-07 17:36:57] (2.4.2) The results of aspect term extraction have been saved in d:\\PROJECTS\\reviewlens-ai\\notebooks\\Aspect Term Extraction and Polarity Classification.FAST_LCF_ATEPC.result.json\n"
     ]
    },
    {
     "name": "stderr",
     "output_type": "stream",
     "text": [
      " 18%|█▊        | 18/100 [00:23<01:48,  1.32s/it]"
     ]
    },
    {
     "name": "stdout",
     "output_type": "stream",
     "text": [
      "[2025-10-07 17:36:58] (2.4.2) The results of aspect term extraction have been saved in d:\\PROJECTS\\reviewlens-ai\\notebooks\\Aspect Term Extraction and Polarity Classification.FAST_LCF_ATEPC.result.json\n"
     ]
    },
    {
     "name": "stderr",
     "output_type": "stream",
     "text": [
      " 19%|█▉        | 19/100 [00:24<01:45,  1.30s/it]"
     ]
    },
    {
     "name": "stdout",
     "output_type": "stream",
     "text": [
      "[2025-10-07 17:36:59] (2.4.2) The results of aspect term extraction have been saved in d:\\PROJECTS\\reviewlens-ai\\notebooks\\Aspect Term Extraction and Polarity Classification.FAST_LCF_ATEPC.result.json\n"
     ]
    },
    {
     "name": "stderr",
     "output_type": "stream",
     "text": [
      " 20%|██        | 20/100 [00:25<01:37,  1.22s/it]"
     ]
    },
    {
     "name": "stdout",
     "output_type": "stream",
     "text": [
      "[2025-10-07 17:37:01] (2.4.2) The results of aspect term extraction have been saved in d:\\PROJECTS\\reviewlens-ai\\notebooks\\Aspect Term Extraction and Polarity Classification.FAST_LCF_ATEPC.result.json\n"
     ]
    },
    {
     "name": "stderr",
     "output_type": "stream",
     "text": [
      " 21%|██        | 21/100 [00:27<01:43,  1.31s/it]"
     ]
    },
    {
     "name": "stdout",
     "output_type": "stream",
     "text": [
      "[2025-10-07 17:37:02] (2.4.2) The results of aspect term extraction have been saved in d:\\PROJECTS\\reviewlens-ai\\notebooks\\Aspect Term Extraction and Polarity Classification.FAST_LCF_ATEPC.result.json\n"
     ]
    },
    {
     "name": "stderr",
     "output_type": "stream",
     "text": [
      " 22%|██▏       | 22/100 [00:28<01:41,  1.30s/it]"
     ]
    },
    {
     "name": "stdout",
     "output_type": "stream",
     "text": [
      "[2025-10-07 17:37:03] (2.4.2) The results of aspect term extraction have been saved in d:\\PROJECTS\\reviewlens-ai\\notebooks\\Aspect Term Extraction and Polarity Classification.FAST_LCF_ATEPC.result.json\n"
     ]
    },
    {
     "name": "stderr",
     "output_type": "stream",
     "text": [
      " 23%|██▎       | 23/100 [00:29<01:39,  1.29s/it]"
     ]
    },
    {
     "name": "stdout",
     "output_type": "stream",
     "text": [
      "[2025-10-07 17:37:04] (2.4.2) The results of aspect term extraction have been saved in d:\\PROJECTS\\reviewlens-ai\\notebooks\\Aspect Term Extraction and Polarity Classification.FAST_LCF_ATEPC.result.json\n"
     ]
    },
    {
     "name": "stderr",
     "output_type": "stream",
     "text": [
      " 24%|██▍       | 24/100 [00:30<01:28,  1.17s/it]"
     ]
    },
    {
     "name": "stdout",
     "output_type": "stream",
     "text": [
      "[2025-10-07 17:37:06] (2.4.2) The results of aspect term extraction have been saved in d:\\PROJECTS\\reviewlens-ai\\notebooks\\Aspect Term Extraction and Polarity Classification.FAST_LCF_ATEPC.result.json\n"
     ]
    },
    {
     "name": "stderr",
     "output_type": "stream",
     "text": [
      " 25%|██▌       | 25/100 [00:32<01:35,  1.27s/it]"
     ]
    },
    {
     "name": "stdout",
     "output_type": "stream",
     "text": [
      "[2025-10-07 17:37:07] (2.4.2) The results of aspect term extraction have been saved in d:\\PROJECTS\\reviewlens-ai\\notebooks\\Aspect Term Extraction and Polarity Classification.FAST_LCF_ATEPC.result.json\n"
     ]
    },
    {
     "name": "stderr",
     "output_type": "stream",
     "text": [
      " 26%|██▌       | 26/100 [00:33<01:33,  1.27s/it]"
     ]
    },
    {
     "name": "stdout",
     "output_type": "stream",
     "text": [
      "[2025-10-07 17:37:09] (2.4.2) The results of aspect term extraction have been saved in d:\\PROJECTS\\reviewlens-ai\\notebooks\\Aspect Term Extraction and Polarity Classification.FAST_LCF_ATEPC.result.json\n"
     ]
    },
    {
     "name": "stderr",
     "output_type": "stream",
     "text": [
      " 27%|██▋       | 27/100 [00:35<01:45,  1.45s/it]"
     ]
    },
    {
     "name": "stdout",
     "output_type": "stream",
     "text": [
      "[2025-10-07 17:37:11] (2.4.2) The results of aspect term extraction have been saved in d:\\PROJECTS\\reviewlens-ai\\notebooks\\Aspect Term Extraction and Polarity Classification.FAST_LCF_ATEPC.result.json\n"
     ]
    },
    {
     "name": "stderr",
     "output_type": "stream",
     "text": [
      " 28%|██▊       | 28/100 [00:36<01:51,  1.55s/it]"
     ]
    },
    {
     "name": "stdout",
     "output_type": "stream",
     "text": [
      "[2025-10-07 17:37:12] (2.4.2) The results of aspect term extraction have been saved in d:\\PROJECTS\\reviewlens-ai\\notebooks\\Aspect Term Extraction and Polarity Classification.FAST_LCF_ATEPC.result.json\n"
     ]
    },
    {
     "name": "stderr",
     "output_type": "stream",
     "text": [
      " 29%|██▉       | 29/100 [00:38<01:39,  1.40s/it]"
     ]
    },
    {
     "name": "stdout",
     "output_type": "stream",
     "text": [
      "[2025-10-07 17:37:13] (2.4.2) The results of aspect term extraction have been saved in d:\\PROJECTS\\reviewlens-ai\\notebooks\\Aspect Term Extraction and Polarity Classification.FAST_LCF_ATEPC.result.json\n"
     ]
    },
    {
     "name": "stderr",
     "output_type": "stream",
     "text": [
      " 30%|███       | 30/100 [00:39<01:35,  1.36s/it]"
     ]
    },
    {
     "name": "stdout",
     "output_type": "stream",
     "text": [
      "[2025-10-07 17:37:14] (2.4.2) The results of aspect term extraction have been saved in d:\\PROJECTS\\reviewlens-ai\\notebooks\\Aspect Term Extraction and Polarity Classification.FAST_LCF_ATEPC.result.json\n"
     ]
    },
    {
     "name": "stderr",
     "output_type": "stream",
     "text": [
      " 31%|███       | 31/100 [00:40<01:31,  1.33s/it]"
     ]
    },
    {
     "name": "stdout",
     "output_type": "stream",
     "text": [
      "[2025-10-07 17:37:16] (2.4.2) The results of aspect term extraction have been saved in d:\\PROJECTS\\reviewlens-ai\\notebooks\\Aspect Term Extraction and Polarity Classification.FAST_LCF_ATEPC.result.json\n"
     ]
    },
    {
     "name": "stderr",
     "output_type": "stream",
     "text": [
      " 32%|███▏      | 32/100 [00:42<01:39,  1.47s/it]"
     ]
    },
    {
     "name": "stdout",
     "output_type": "stream",
     "text": [
      "[2025-10-07 17:37:17] (2.4.2) The results of aspect term extraction have been saved in d:\\PROJECTS\\reviewlens-ai\\notebooks\\Aspect Term Extraction and Polarity Classification.FAST_LCF_ATEPC.result.json\n"
     ]
    },
    {
     "name": "stderr",
     "output_type": "stream",
     "text": [
      " 33%|███▎      | 33/100 [00:43<01:34,  1.40s/it]"
     ]
    },
    {
     "name": "stdout",
     "output_type": "stream",
     "text": [
      "[2025-10-07 17:37:18] (2.4.2) The results of aspect term extraction have been saved in d:\\PROJECTS\\reviewlens-ai\\notebooks\\Aspect Term Extraction and Polarity Classification.FAST_LCF_ATEPC.result.json\n"
     ]
    },
    {
     "name": "stderr",
     "output_type": "stream",
     "text": [
      " 34%|███▍      | 34/100 [00:44<01:29,  1.36s/it]"
     ]
    },
    {
     "name": "stdout",
     "output_type": "stream",
     "text": [
      "[2025-10-07 17:37:20] (2.4.2) The results of aspect term extraction have been saved in d:\\PROJECTS\\reviewlens-ai\\notebooks\\Aspect Term Extraction and Polarity Classification.FAST_LCF_ATEPC.result.json\n"
     ]
    },
    {
     "name": "stderr",
     "output_type": "stream",
     "text": [
      " 35%|███▌      | 35/100 [00:46<01:30,  1.39s/it]"
     ]
    },
    {
     "name": "stdout",
     "output_type": "stream",
     "text": [
      "[2025-10-07 17:37:21] (2.4.2) The results of aspect term extraction have been saved in d:\\PROJECTS\\reviewlens-ai\\notebooks\\Aspect Term Extraction and Polarity Classification.FAST_LCF_ATEPC.result.json\n"
     ]
    },
    {
     "name": "stderr",
     "output_type": "stream",
     "text": [
      " 36%|███▌      | 36/100 [00:47<01:22,  1.28s/it]"
     ]
    },
    {
     "name": "stdout",
     "output_type": "stream",
     "text": [
      "[2025-10-07 17:37:22] (2.4.2) The results of aspect term extraction have been saved in d:\\PROJECTS\\reviewlens-ai\\notebooks\\Aspect Term Extraction and Polarity Classification.FAST_LCF_ATEPC.result.json\n"
     ]
    },
    {
     "name": "stderr",
     "output_type": "stream",
     "text": [
      " 37%|███▋      | 37/100 [00:48<01:16,  1.21s/it]"
     ]
    },
    {
     "name": "stdout",
     "output_type": "stream",
     "text": [
      "[2025-10-07 17:37:24] (2.4.2) The results of aspect term extraction have been saved in d:\\PROJECTS\\reviewlens-ai\\notebooks\\Aspect Term Extraction and Polarity Classification.FAST_LCF_ATEPC.result.json\n"
     ]
    },
    {
     "name": "stderr",
     "output_type": "stream",
     "text": [
      " 38%|███▊      | 38/100 [00:50<01:25,  1.39s/it]"
     ]
    },
    {
     "name": "stdout",
     "output_type": "stream",
     "text": [
      "[2025-10-07 17:37:26] (2.4.2) The results of aspect term extraction have been saved in d:\\PROJECTS\\reviewlens-ai\\notebooks\\Aspect Term Extraction and Polarity Classification.FAST_LCF_ATEPC.result.json\n"
     ]
    },
    {
     "name": "stderr",
     "output_type": "stream",
     "text": [
      " 39%|███▉      | 39/100 [00:52<01:32,  1.51s/it]"
     ]
    },
    {
     "name": "stdout",
     "output_type": "stream",
     "text": [
      "[2025-10-07 17:37:27] (2.4.2) The results of aspect term extraction have been saved in d:\\PROJECTS\\reviewlens-ai\\notebooks\\Aspect Term Extraction and Polarity Classification.FAST_LCF_ATEPC.result.json\n"
     ]
    },
    {
     "name": "stderr",
     "output_type": "stream",
     "text": [
      " 40%|████      | 40/100 [00:53<01:22,  1.37s/it]"
     ]
    },
    {
     "name": "stdout",
     "output_type": "stream",
     "text": [
      "[2025-10-07 17:37:28] (2.4.2) The results of aspect term extraction have been saved in d:\\PROJECTS\\reviewlens-ai\\notebooks\\Aspect Term Extraction and Polarity Classification.FAST_LCF_ATEPC.result.json\n"
     ]
    },
    {
     "name": "stderr",
     "output_type": "stream",
     "text": [
      " 41%|████      | 41/100 [00:54<01:19,  1.35s/it]"
     ]
    },
    {
     "name": "stdout",
     "output_type": "stream",
     "text": [
      "[2025-10-07 17:37:29] (2.4.2) The results of aspect term extraction have been saved in d:\\PROJECTS\\reviewlens-ai\\notebooks\\Aspect Term Extraction and Polarity Classification.FAST_LCF_ATEPC.result.json\n"
     ]
    },
    {
     "name": "stderr",
     "output_type": "stream",
     "text": [
      " 42%|████▏     | 42/100 [00:55<01:16,  1.31s/it]"
     ]
    },
    {
     "name": "stdout",
     "output_type": "stream",
     "text": [
      "[2025-10-07 17:37:30] (2.4.2) The results of aspect term extraction have been saved in d:\\PROJECTS\\reviewlens-ai\\notebooks\\Aspect Term Extraction and Polarity Classification.FAST_LCF_ATEPC.result.json\n"
     ]
    },
    {
     "name": "stderr",
     "output_type": "stream",
     "text": [
      " 43%|████▎     | 43/100 [00:56<01:10,  1.23s/it]"
     ]
    },
    {
     "name": "stdout",
     "output_type": "stream",
     "text": [
      "[2025-10-07 17:37:32] (2.4.2) The results of aspect term extraction have been saved in d:\\PROJECTS\\reviewlens-ai\\notebooks\\Aspect Term Extraction and Polarity Classification.FAST_LCF_ATEPC.result.json\n"
     ]
    },
    {
     "name": "stderr",
     "output_type": "stream",
     "text": [
      " 44%|████▍     | 44/100 [00:58<01:18,  1.41s/it]"
     ]
    },
    {
     "name": "stdout",
     "output_type": "stream",
     "text": [
      "[2025-10-07 17:37:33] (2.4.2) The results of aspect term extraction have been saved in d:\\PROJECTS\\reviewlens-ai\\notebooks\\Aspect Term Extraction and Polarity Classification.FAST_LCF_ATEPC.result.json\n"
     ]
    },
    {
     "name": "stderr",
     "output_type": "stream",
     "text": [
      " 45%|████▌     | 45/100 [00:59<01:19,  1.44s/it]"
     ]
    },
    {
     "name": "stdout",
     "output_type": "stream",
     "text": [
      "[2025-10-07 17:37:35] (2.4.2) The results of aspect term extraction have been saved in d:\\PROJECTS\\reviewlens-ai\\notebooks\\Aspect Term Extraction and Polarity Classification.FAST_LCF_ATEPC.result.json\n"
     ]
    },
    {
     "name": "stderr",
     "output_type": "stream",
     "text": [
      " 46%|████▌     | 46/100 [01:01<01:14,  1.39s/it]"
     ]
    },
    {
     "name": "stdout",
     "output_type": "stream",
     "text": [
      "[2025-10-07 17:37:36] (2.4.2) The results of aspect term extraction have been saved in d:\\PROJECTS\\reviewlens-ai\\notebooks\\Aspect Term Extraction and Polarity Classification.FAST_LCF_ATEPC.result.json\n"
     ]
    },
    {
     "name": "stderr",
     "output_type": "stream",
     "text": [
      " 47%|████▋     | 47/100 [01:02<01:05,  1.23s/it]"
     ]
    },
    {
     "name": "stdout",
     "output_type": "stream",
     "text": [
      "[2025-10-07 17:37:37] (2.4.2) The results of aspect term extraction have been saved in d:\\PROJECTS\\reviewlens-ai\\notebooks\\Aspect Term Extraction and Polarity Classification.FAST_LCF_ATEPC.result.json\n"
     ]
    },
    {
     "name": "stderr",
     "output_type": "stream",
     "text": [
      " 48%|████▊     | 48/100 [01:03<01:04,  1.23s/it]"
     ]
    },
    {
     "name": "stdout",
     "output_type": "stream",
     "text": [
      "[2025-10-07 17:37:38] (2.4.2) The results of aspect term extraction have been saved in d:\\PROJECTS\\reviewlens-ai\\notebooks\\Aspect Term Extraction and Polarity Classification.FAST_LCF_ATEPC.result.json\n"
     ]
    },
    {
     "name": "stderr",
     "output_type": "stream",
     "text": [
      " 49%|████▉     | 49/100 [01:04<00:59,  1.17s/it]"
     ]
    },
    {
     "name": "stdout",
     "output_type": "stream",
     "text": [
      "[2025-10-07 17:37:39] (2.4.2) The results of aspect term extraction have been saved in d:\\PROJECTS\\reviewlens-ai\\notebooks\\Aspect Term Extraction and Polarity Classification.FAST_LCF_ATEPC.result.json\n"
     ]
    },
    {
     "name": "stderr",
     "output_type": "stream",
     "text": [
      " 50%|█████     | 50/100 [01:05<00:56,  1.13s/it]"
     ]
    },
    {
     "name": "stdout",
     "output_type": "stream",
     "text": [
      "[2025-10-07 17:37:41] (2.4.2) The results of aspect term extraction have been saved in d:\\PROJECTS\\reviewlens-ai\\notebooks\\Aspect Term Extraction and Polarity Classification.FAST_LCF_ATEPC.result.json\n"
     ]
    },
    {
     "name": "stderr",
     "output_type": "stream",
     "text": [
      " 51%|█████     | 51/100 [01:07<01:05,  1.33s/it]"
     ]
    },
    {
     "name": "stdout",
     "output_type": "stream",
     "text": [
      "[2025-10-07 17:37:42] (2.4.2) The results of aspect term extraction have been saved in d:\\PROJECTS\\reviewlens-ai\\notebooks\\Aspect Term Extraction and Polarity Classification.FAST_LCF_ATEPC.result.json\n"
     ]
    },
    {
     "name": "stderr",
     "output_type": "stream",
     "text": [
      " 52%|█████▏    | 52/100 [01:08<01:02,  1.31s/it]"
     ]
    },
    {
     "name": "stdout",
     "output_type": "stream",
     "text": [
      "[2025-10-07 17:37:44] (2.4.2) The results of aspect term extraction have been saved in d:\\PROJECTS\\reviewlens-ai\\notebooks\\Aspect Term Extraction and Polarity Classification.FAST_LCF_ATEPC.result.json\n"
     ]
    },
    {
     "name": "stderr",
     "output_type": "stream",
     "text": [
      " 53%|█████▎    | 53/100 [01:09<01:04,  1.38s/it]"
     ]
    },
    {
     "name": "stdout",
     "output_type": "stream",
     "text": [
      "[2025-10-07 17:37:46] (2.4.2) The results of aspect term extraction have been saved in d:\\PROJECTS\\reviewlens-ai\\notebooks\\Aspect Term Extraction and Polarity Classification.FAST_LCF_ATEPC.result.json\n"
     ]
    },
    {
     "name": "stderr",
     "output_type": "stream",
     "text": [
      " 54%|█████▍    | 54/100 [01:12<01:16,  1.65s/it]"
     ]
    },
    {
     "name": "stdout",
     "output_type": "stream",
     "text": [
      "[2025-10-07 17:37:47] (2.4.2) The results of aspect term extraction have been saved in d:\\PROJECTS\\reviewlens-ai\\notebooks\\Aspect Term Extraction and Polarity Classification.FAST_LCF_ATEPC.result.json\n"
     ]
    },
    {
     "name": "stderr",
     "output_type": "stream",
     "text": [
      " 55%|█████▌    | 55/100 [01:13<01:06,  1.48s/it]"
     ]
    },
    {
     "name": "stdout",
     "output_type": "stream",
     "text": [
      "[2025-10-07 17:37:49] (2.4.2) The results of aspect term extraction have been saved in d:\\PROJECTS\\reviewlens-ai\\notebooks\\Aspect Term Extraction and Polarity Classification.FAST_LCF_ATEPC.result.json\n"
     ]
    },
    {
     "name": "stderr",
     "output_type": "stream",
     "text": [
      " 56%|█████▌    | 56/100 [01:15<01:09,  1.57s/it]"
     ]
    },
    {
     "name": "stdout",
     "output_type": "stream",
     "text": [
      "[2025-10-07 17:37:49] (2.4.2) The results of aspect term extraction have been saved in d:\\PROJECTS\\reviewlens-ai\\notebooks\\Aspect Term Extraction and Polarity Classification.FAST_LCF_ATEPC.result.json\n"
     ]
    },
    {
     "name": "stderr",
     "output_type": "stream",
     "text": [
      " 57%|█████▋    | 57/100 [01:15<00:57,  1.34s/it]"
     ]
    },
    {
     "name": "stdout",
     "output_type": "stream",
     "text": [
      "[2025-10-07 17:37:51] (2.4.2) The results of aspect term extraction have been saved in d:\\PROJECTS\\reviewlens-ai\\notebooks\\Aspect Term Extraction and Polarity Classification.FAST_LCF_ATEPC.result.json\n"
     ]
    },
    {
     "name": "stderr",
     "output_type": "stream",
     "text": [
      " 58%|█████▊    | 58/100 [01:17<00:58,  1.40s/it]"
     ]
    },
    {
     "name": "stdout",
     "output_type": "stream",
     "text": [
      "[2025-10-07 17:37:53] (2.4.2) The results of aspect term extraction have been saved in d:\\PROJECTS\\reviewlens-ai\\notebooks\\Aspect Term Extraction and Polarity Classification.FAST_LCF_ATEPC.result.json\n"
     ]
    },
    {
     "name": "stderr",
     "output_type": "stream",
     "text": [
      " 59%|█████▉    | 59/100 [01:19<01:07,  1.65s/it]"
     ]
    },
    {
     "name": "stdout",
     "output_type": "stream",
     "text": [
      "[2025-10-07 17:37:54] (2.4.2) The results of aspect term extraction have been saved in d:\\PROJECTS\\reviewlens-ai\\notebooks\\Aspect Term Extraction and Polarity Classification.FAST_LCF_ATEPC.result.json\n"
     ]
    },
    {
     "name": "stderr",
     "output_type": "stream",
     "text": [
      " 60%|██████    | 60/100 [01:20<00:58,  1.47s/it]"
     ]
    },
    {
     "name": "stdout",
     "output_type": "stream",
     "text": [
      "[2025-10-07 17:37:56] (2.4.2) The results of aspect term extraction have been saved in d:\\PROJECTS\\reviewlens-ai\\notebooks\\Aspect Term Extraction and Polarity Classification.FAST_LCF_ATEPC.result.json\n"
     ]
    },
    {
     "name": "stderr",
     "output_type": "stream",
     "text": [
      " 61%|██████    | 61/100 [01:22<00:55,  1.42s/it]"
     ]
    },
    {
     "name": "stdout",
     "output_type": "stream",
     "text": [
      "[2025-10-07 17:37:57] (2.4.2) The results of aspect term extraction have been saved in d:\\PROJECTS\\reviewlens-ai\\notebooks\\Aspect Term Extraction and Polarity Classification.FAST_LCF_ATEPC.result.json\n"
     ]
    },
    {
     "name": "stderr",
     "output_type": "stream",
     "text": [
      " 62%|██████▏   | 62/100 [01:23<00:49,  1.30s/it]"
     ]
    },
    {
     "name": "stdout",
     "output_type": "stream",
     "text": [
      "[2025-10-07 17:37:58] (2.4.2) The results of aspect term extraction have been saved in d:\\PROJECTS\\reviewlens-ai\\notebooks\\Aspect Term Extraction and Polarity Classification.FAST_LCF_ATEPC.result.json\n"
     ]
    },
    {
     "name": "stderr",
     "output_type": "stream",
     "text": [
      " 63%|██████▎   | 63/100 [01:24<00:50,  1.37s/it]"
     ]
    },
    {
     "name": "stdout",
     "output_type": "stream",
     "text": [
      "[2025-10-07 17:38:00] (2.4.2) The results of aspect term extraction have been saved in d:\\PROJECTS\\reviewlens-ai\\notebooks\\Aspect Term Extraction and Polarity Classification.FAST_LCF_ATEPC.result.json\n"
     ]
    },
    {
     "name": "stderr",
     "output_type": "stream",
     "text": [
      " 64%|██████▍   | 64/100 [01:26<00:51,  1.42s/it]"
     ]
    },
    {
     "name": "stdout",
     "output_type": "stream",
     "text": [
      "[2025-10-07 17:38:01] (2.4.2) The results of aspect term extraction have been saved in d:\\PROJECTS\\reviewlens-ai\\notebooks\\Aspect Term Extraction and Polarity Classification.FAST_LCF_ATEPC.result.json\n"
     ]
    },
    {
     "name": "stderr",
     "output_type": "stream",
     "text": [
      " 65%|██████▌   | 65/100 [01:27<00:45,  1.30s/it]"
     ]
    },
    {
     "name": "stdout",
     "output_type": "stream",
     "text": [
      "[2025-10-07 17:38:02] (2.4.2) The results of aspect term extraction have been saved in d:\\PROJECTS\\reviewlens-ai\\notebooks\\Aspect Term Extraction and Polarity Classification.FAST_LCF_ATEPC.result.json\n"
     ]
    },
    {
     "name": "stderr",
     "output_type": "stream",
     "text": [
      " 66%|██████▌   | 66/100 [01:28<00:42,  1.25s/it]"
     ]
    },
    {
     "name": "stdout",
     "output_type": "stream",
     "text": [
      "[2025-10-07 17:38:03] (2.4.2) The results of aspect term extraction have been saved in d:\\PROJECTS\\reviewlens-ai\\notebooks\\Aspect Term Extraction and Polarity Classification.FAST_LCF_ATEPC.result.json\n"
     ]
    },
    {
     "name": "stderr",
     "output_type": "stream",
     "text": [
      " 67%|██████▋   | 67/100 [01:29<00:41,  1.26s/it]"
     ]
    },
    {
     "name": "stdout",
     "output_type": "stream",
     "text": [
      "[2025-10-07 17:38:04] (2.4.2) The results of aspect term extraction have been saved in d:\\PROJECTS\\reviewlens-ai\\notebooks\\Aspect Term Extraction and Polarity Classification.FAST_LCF_ATEPC.result.json\n"
     ]
    },
    {
     "name": "stderr",
     "output_type": "stream",
     "text": [
      " 68%|██████▊   | 68/100 [01:30<00:37,  1.19s/it]"
     ]
    },
    {
     "name": "stdout",
     "output_type": "stream",
     "text": [
      "[2025-10-07 17:38:05] (2.4.2) The results of aspect term extraction have been saved in d:\\PROJECTS\\reviewlens-ai\\notebooks\\Aspect Term Extraction and Polarity Classification.FAST_LCF_ATEPC.result.json\n"
     ]
    },
    {
     "name": "stderr",
     "output_type": "stream",
     "text": [
      " 69%|██████▉   | 69/100 [01:31<00:37,  1.21s/it]"
     ]
    },
    {
     "name": "stdout",
     "output_type": "stream",
     "text": [
      "[2025-10-07 17:38:06] (2.4.2) The results of aspect term extraction have been saved in d:\\PROJECTS\\reviewlens-ai\\notebooks\\Aspect Term Extraction and Polarity Classification.FAST_LCF_ATEPC.result.json\n"
     ]
    },
    {
     "name": "stderr",
     "output_type": "stream",
     "text": [
      " 70%|███████   | 70/100 [01:32<00:34,  1.15s/it]"
     ]
    },
    {
     "name": "stdout",
     "output_type": "stream",
     "text": [
      "[2025-10-07 17:38:08] (2.4.2) The results of aspect term extraction have been saved in d:\\PROJECTS\\reviewlens-ai\\notebooks\\Aspect Term Extraction and Polarity Classification.FAST_LCF_ATEPC.result.json\n"
     ]
    },
    {
     "name": "stderr",
     "output_type": "stream",
     "text": [
      " 71%|███████   | 71/100 [01:34<00:38,  1.34s/it]"
     ]
    },
    {
     "name": "stdout",
     "output_type": "stream",
     "text": [
      "[2025-10-07 17:38:09] (2.4.2) The results of aspect term extraction have been saved in d:\\PROJECTS\\reviewlens-ai\\notebooks\\Aspect Term Extraction and Polarity Classification.FAST_LCF_ATEPC.result.json\n"
     ]
    },
    {
     "name": "stderr",
     "output_type": "stream",
     "text": [
      " 72%|███████▏  | 72/100 [01:35<00:36,  1.31s/it]"
     ]
    },
    {
     "name": "stdout",
     "output_type": "stream",
     "text": [
      "[2025-10-07 17:38:11] (2.4.2) The results of aspect term extraction have been saved in d:\\PROJECTS\\reviewlens-ai\\notebooks\\Aspect Term Extraction and Polarity Classification.FAST_LCF_ATEPC.result.json\n"
     ]
    },
    {
     "name": "stderr",
     "output_type": "stream",
     "text": [
      " 73%|███████▎  | 73/100 [01:37<00:37,  1.38s/it]"
     ]
    },
    {
     "name": "stdout",
     "output_type": "stream",
     "text": [
      "[2025-10-07 17:38:12] (2.4.2) The results of aspect term extraction have been saved in d:\\PROJECTS\\reviewlens-ai\\notebooks\\Aspect Term Extraction and Polarity Classification.FAST_LCF_ATEPC.result.json\n"
     ]
    },
    {
     "name": "stderr",
     "output_type": "stream",
     "text": [
      " 74%|███████▍  | 74/100 [01:38<00:36,  1.42s/it]"
     ]
    },
    {
     "name": "stdout",
     "output_type": "stream",
     "text": [
      "[2025-10-07 17:38:14] (2.4.2) The results of aspect term extraction have been saved in d:\\PROJECTS\\reviewlens-ai\\notebooks\\Aspect Term Extraction and Polarity Classification.FAST_LCF_ATEPC.result.json\n"
     ]
    },
    {
     "name": "stderr",
     "output_type": "stream",
     "text": [
      " 75%|███████▌  | 75/100 [01:40<00:33,  1.36s/it]"
     ]
    },
    {
     "name": "stdout",
     "output_type": "stream",
     "text": [
      "[2025-10-07 17:38:15] (2.4.2) The results of aspect term extraction have been saved in d:\\PROJECTS\\reviewlens-ai\\notebooks\\Aspect Term Extraction and Polarity Classification.FAST_LCF_ATEPC.result.json\n"
     ]
    },
    {
     "name": "stderr",
     "output_type": "stream",
     "text": [
      " 76%|███████▌  | 76/100 [01:41<00:32,  1.34s/it]"
     ]
    },
    {
     "name": "stdout",
     "output_type": "stream",
     "text": [
      "[2025-10-07 17:38:16] (2.4.2) The results of aspect term extraction have been saved in d:\\PROJECTS\\reviewlens-ai\\notebooks\\Aspect Term Extraction and Polarity Classification.FAST_LCF_ATEPC.result.json\n"
     ]
    },
    {
     "name": "stderr",
     "output_type": "stream",
     "text": [
      " 77%|███████▋  | 77/100 [01:42<00:30,  1.31s/it]"
     ]
    },
    {
     "name": "stdout",
     "output_type": "stream",
     "text": [
      "[2025-10-07 17:38:17] (2.4.2) The results of aspect term extraction have been saved in d:\\PROJECTS\\reviewlens-ai\\notebooks\\Aspect Term Extraction and Polarity Classification.FAST_LCF_ATEPC.result.json\n"
     ]
    },
    {
     "name": "stderr",
     "output_type": "stream",
     "text": [
      " 78%|███████▊  | 78/100 [01:43<00:27,  1.23s/it]"
     ]
    },
    {
     "name": "stdout",
     "output_type": "stream",
     "text": [
      "[2025-10-07 17:38:19] (2.4.2) The results of aspect term extraction have been saved in d:\\PROJECTS\\reviewlens-ai\\notebooks\\Aspect Term Extraction and Polarity Classification.FAST_LCF_ATEPC.result.json\n"
     ]
    },
    {
     "name": "stderr",
     "output_type": "stream",
     "text": [
      " 79%|███████▉  | 79/100 [01:45<00:26,  1.24s/it]"
     ]
    },
    {
     "name": "stdout",
     "output_type": "stream",
     "text": [
      "[2025-10-07 17:38:21] (2.4.2) The results of aspect term extraction have been saved in d:\\PROJECTS\\reviewlens-ai\\notebooks\\Aspect Term Extraction and Polarity Classification.FAST_LCF_ATEPC.result.json\n"
     ]
    },
    {
     "name": "stderr",
     "output_type": "stream",
     "text": [
      " 80%|████████  | 80/100 [01:47<00:29,  1.47s/it]"
     ]
    },
    {
     "name": "stdout",
     "output_type": "stream",
     "text": [
      "[2025-10-07 17:38:22] (2.4.2) The results of aspect term extraction have been saved in d:\\PROJECTS\\reviewlens-ai\\notebooks\\Aspect Term Extraction and Polarity Classification.FAST_LCF_ATEPC.result.json\n"
     ]
    },
    {
     "name": "stderr",
     "output_type": "stream",
     "text": [
      " 81%|████████  | 81/100 [01:48<00:26,  1.41s/it]"
     ]
    },
    {
     "name": "stdout",
     "output_type": "stream",
     "text": [
      "[2025-10-07 17:38:23] (2.4.2) The results of aspect term extraction have been saved in d:\\PROJECTS\\reviewlens-ai\\notebooks\\Aspect Term Extraction and Polarity Classification.FAST_LCF_ATEPC.result.json\n"
     ]
    },
    {
     "name": "stderr",
     "output_type": "stream",
     "text": [
      " 82%|████████▏ | 82/100 [01:49<00:22,  1.23s/it]"
     ]
    },
    {
     "name": "stdout",
     "output_type": "stream",
     "text": [
      "[2025-10-07 17:38:24] (2.4.2) The results of aspect term extraction have been saved in d:\\PROJECTS\\reviewlens-ai\\notebooks\\Aspect Term Extraction and Polarity Classification.FAST_LCF_ATEPC.result.json\n"
     ]
    },
    {
     "name": "stderr",
     "output_type": "stream",
     "text": [
      " 83%|████████▎ | 83/100 [01:50<00:22,  1.32s/it]"
     ]
    },
    {
     "name": "stdout",
     "output_type": "stream",
     "text": [
      "[2025-10-07 17:38:26] (2.4.2) The results of aspect term extraction have been saved in d:\\PROJECTS\\reviewlens-ai\\notebooks\\Aspect Term Extraction and Polarity Classification.FAST_LCF_ATEPC.result.json\n"
     ]
    },
    {
     "name": "stderr",
     "output_type": "stream",
     "text": [
      " 84%|████████▍ | 84/100 [01:52<00:23,  1.46s/it]"
     ]
    },
    {
     "name": "stdout",
     "output_type": "stream",
     "text": [
      "[2025-10-07 17:38:27] (2.4.2) The results of aspect term extraction have been saved in d:\\PROJECTS\\reviewlens-ai\\notebooks\\Aspect Term Extraction and Polarity Classification.FAST_LCF_ATEPC.result.json\n"
     ]
    },
    {
     "name": "stderr",
     "output_type": "stream",
     "text": [
      " 85%|████████▌ | 85/100 [01:53<00:22,  1.47s/it]"
     ]
    },
    {
     "name": "stdout",
     "output_type": "stream",
     "text": [
      "[2025-10-07 17:38:29] (2.4.2) The results of aspect term extraction have been saved in d:\\PROJECTS\\reviewlens-ai\\notebooks\\Aspect Term Extraction and Polarity Classification.FAST_LCF_ATEPC.result.json\n"
     ]
    },
    {
     "name": "stderr",
     "output_type": "stream",
     "text": [
      " 86%|████████▌ | 86/100 [01:55<00:20,  1.49s/it]"
     ]
    },
    {
     "name": "stdout",
     "output_type": "stream",
     "text": [
      "[2025-10-07 17:38:30] (2.4.2) The results of aspect term extraction have been saved in d:\\PROJECTS\\reviewlens-ai\\notebooks\\Aspect Term Extraction and Polarity Classification.FAST_LCF_ATEPC.result.json\n"
     ]
    },
    {
     "name": "stderr",
     "output_type": "stream",
     "text": [
      " 87%|████████▋ | 87/100 [01:56<00:19,  1.48s/it]"
     ]
    },
    {
     "name": "stdout",
     "output_type": "stream",
     "text": [
      "[2025-10-07 17:38:31] (2.4.2) The results of aspect term extraction have been saved in d:\\PROJECTS\\reviewlens-ai\\notebooks\\Aspect Term Extraction and Polarity Classification.FAST_LCF_ATEPC.result.json\n"
     ]
    },
    {
     "name": "stderr",
     "output_type": "stream",
     "text": [
      " 88%|████████▊ | 88/100 [01:57<00:16,  1.35s/it]"
     ]
    },
    {
     "name": "stdout",
     "output_type": "stream",
     "text": [
      "[2025-10-07 17:38:33] (2.4.2) The results of aspect term extraction have been saved in d:\\PROJECTS\\reviewlens-ai\\notebooks\\Aspect Term Extraction and Polarity Classification.FAST_LCF_ATEPC.result.json\n"
     ]
    },
    {
     "name": "stderr",
     "output_type": "stream",
     "text": [
      " 89%|████████▉ | 89/100 [01:59<00:14,  1.31s/it]"
     ]
    },
    {
     "name": "stdout",
     "output_type": "stream",
     "text": [
      "[2025-10-07 17:38:34] (2.4.2) The results of aspect term extraction have been saved in d:\\PROJECTS\\reviewlens-ai\\notebooks\\Aspect Term Extraction and Polarity Classification.FAST_LCF_ATEPC.result.json\n"
     ]
    },
    {
     "name": "stderr",
     "output_type": "stream",
     "text": [
      " 90%|█████████ | 90/100 [02:00<00:12,  1.24s/it]"
     ]
    },
    {
     "name": "stdout",
     "output_type": "stream",
     "text": [
      "[2025-10-07 17:38:35] (2.4.2) The results of aspect term extraction have been saved in d:\\PROJECTS\\reviewlens-ai\\notebooks\\Aspect Term Extraction and Polarity Classification.FAST_LCF_ATEPC.result.json\n"
     ]
    },
    {
     "name": "stderr",
     "output_type": "stream",
     "text": [
      " 91%|█████████ | 91/100 [02:01<00:11,  1.24s/it]"
     ]
    },
    {
     "name": "stdout",
     "output_type": "stream",
     "text": [
      "[2025-10-07 17:38:36] (2.4.2) The results of aspect term extraction have been saved in d:\\PROJECTS\\reviewlens-ai\\notebooks\\Aspect Term Extraction and Polarity Classification.FAST_LCF_ATEPC.result.json\n"
     ]
    },
    {
     "name": "stderr",
     "output_type": "stream",
     "text": [
      " 92%|█████████▏| 92/100 [02:02<00:09,  1.13s/it]"
     ]
    },
    {
     "name": "stdout",
     "output_type": "stream",
     "text": [
      "[2025-10-07 17:38:38] (2.4.2) The results of aspect term extraction have been saved in d:\\PROJECTS\\reviewlens-ai\\notebooks\\Aspect Term Extraction and Polarity Classification.FAST_LCF_ATEPC.result.json\n"
     ]
    },
    {
     "name": "stderr",
     "output_type": "stream",
     "text": [
      " 93%|█████████▎| 93/100 [02:03<00:08,  1.28s/it]"
     ]
    },
    {
     "name": "stdout",
     "output_type": "stream",
     "text": [
      "[2025-10-07 17:38:39] (2.4.2) The results of aspect term extraction have been saved in d:\\PROJECTS\\reviewlens-ai\\notebooks\\Aspect Term Extraction and Polarity Classification.FAST_LCF_ATEPC.result.json\n"
     ]
    },
    {
     "name": "stderr",
     "output_type": "stream",
     "text": [
      " 94%|█████████▍| 94/100 [02:05<00:07,  1.27s/it]"
     ]
    },
    {
     "name": "stdout",
     "output_type": "stream",
     "text": [
      "[2025-10-07 17:38:40] (2.4.2) The results of aspect term extraction have been saved in d:\\PROJECTS\\reviewlens-ai\\notebooks\\Aspect Term Extraction and Polarity Classification.FAST_LCF_ATEPC.result.json\n"
     ]
    },
    {
     "name": "stderr",
     "output_type": "stream",
     "text": [
      " 95%|█████████▌| 95/100 [02:06<00:06,  1.35s/it]"
     ]
    },
    {
     "name": "stdout",
     "output_type": "stream",
     "text": [
      "[2025-10-07 17:38:42] (2.4.2) The results of aspect term extraction have been saved in d:\\PROJECTS\\reviewlens-ai\\notebooks\\Aspect Term Extraction and Polarity Classification.FAST_LCF_ATEPC.result.json\n"
     ]
    },
    {
     "name": "stderr",
     "output_type": "stream",
     "text": [
      " 96%|█████████▌| 96/100 [02:08<00:05,  1.32s/it]"
     ]
    },
    {
     "name": "stdout",
     "output_type": "stream",
     "text": [
      "[2025-10-07 17:38:43] (2.4.2) The results of aspect term extraction have been saved in d:\\PROJECTS\\reviewlens-ai\\notebooks\\Aspect Term Extraction and Polarity Classification.FAST_LCF_ATEPC.result.json\n"
     ]
    },
    {
     "name": "stderr",
     "output_type": "stream",
     "text": [
      " 97%|█████████▋| 97/100 [02:09<00:03,  1.29s/it]"
     ]
    },
    {
     "name": "stdout",
     "output_type": "stream",
     "text": [
      "[2025-10-07 17:38:44] (2.4.2) The results of aspect term extraction have been saved in d:\\PROJECTS\\reviewlens-ai\\notebooks\\Aspect Term Extraction and Polarity Classification.FAST_LCF_ATEPC.result.json\n"
     ]
    },
    {
     "name": "stderr",
     "output_type": "stream",
     "text": [
      " 98%|█████████▊| 98/100 [02:10<00:02,  1.29s/it]"
     ]
    },
    {
     "name": "stdout",
     "output_type": "stream",
     "text": [
      "[2025-10-07 17:38:45] (2.4.2) The results of aspect term extraction have been saved in d:\\PROJECTS\\reviewlens-ai\\notebooks\\Aspect Term Extraction and Polarity Classification.FAST_LCF_ATEPC.result.json\n"
     ]
    },
    {
     "name": "stderr",
     "output_type": "stream",
     "text": [
      " 99%|█████████▉| 99/100 [02:11<00:01,  1.20s/it]"
     ]
    },
    {
     "name": "stdout",
     "output_type": "stream",
     "text": [
      "[2025-10-07 17:38:46] (2.4.2) The results of aspect term extraction have been saved in d:\\PROJECTS\\reviewlens-ai\\notebooks\\Aspect Term Extraction and Polarity Classification.FAST_LCF_ATEPC.result.json\n"
     ]
    },
    {
     "name": "stderr",
     "output_type": "stream",
     "text": [
      "100%|██████████| 100/100 [02:12<00:00,  1.15s/it]"
     ]
    },
    {
     "name": "stdout",
     "output_type": "stream",
     "text": [
      "[2025-10-07 17:38:47] (2.4.2) The results of aspect term extraction have been saved in d:\\PROJECTS\\reviewlens-ai\\notebooks\\Aspect Term Extraction and Polarity Classification.FAST_LCF_ATEPC.result.json\n"
     ]
    },
    {
     "name": "stderr",
     "output_type": "stream",
     "text": [
      "100%|██████████| 100/100 [02:13<00:00,  1.34s/it]\n"
     ]
    },
    {
     "name": "stdout",
     "output_type": "stream",
     "text": [
      "ABSA complete.\n",
      "\n",
      "--- Qualitative Validation Examples ---\n"
     ]
    },
    {
     "data": {
      "text/html": [
       "<div>\n",
       "<style scoped>\n",
       "    .dataframe tbody tr th:only-of-type {\n",
       "        vertical-align: middle;\n",
       "    }\n",
       "\n",
       "    .dataframe tbody tr th {\n",
       "        vertical-align: top;\n",
       "    }\n",
       "\n",
       "    .dataframe thead th {\n",
       "        text-align: right;\n",
       "    }\n",
       "</style>\n",
       "<table border=\"1\" class=\"dataframe\">\n",
       "  <thead>\n",
       "    <tr style=\"text-align: right;\">\n",
       "      <th></th>\n",
       "      <th>full_review_text</th>\n",
       "      <th>aspects</th>\n",
       "    </tr>\n",
       "  </thead>\n",
       "  <tbody>\n",
       "    <tr>\n",
       "      <th>8329</th>\n",
       "      <td>Change armpits I love, love this dress except for the armpits. if they had just made the armpits...</td>\n",
       "      <td>h (e)</td>\n",
       "    </tr>\n",
       "    <tr>\n",
       "      <th>17943</th>\n",
       "      <td>Awkward sweater I wanted this sweater to work but sadly it failed. first, the pink was way to sh...</td>\n",
       "      <td>p (i), b (a), k (n)</td>\n",
       "    </tr>\n",
       "    <tr>\n",
       "      <th>11456</th>\n",
       "      <td>Well-made but lacks structure I love the style of this swimsuit on the model. when i purchased i...</td>\n",
       "      <td>s (t), w (i), l (i)</td>\n",
       "    </tr>\n",
       "    <tr>\n",
       "      <th>14386</th>\n",
       "      <td>Strangely cut Was super excited to try this on, but had to go up 3 sizes from my normal 6 and th...</td>\n",
       "      <td>c (u), w (a), c (u)</td>\n",
       "    </tr>\n",
       "    <tr>\n",
       "      <th>18681</th>\n",
       "      <td>Feminine and clean Size 8 always, 36c and i have broad shoulders...i found this true to size. th...</td>\n",
       "      <td>S (i), s (i), c (o)</td>\n",
       "    </tr>\n",
       "  </tbody>\n",
       "</table>\n",
       "</div>"
      ],
      "text/plain": [
       "                                                                                          full_review_text  \\\n",
       "8329   Change armpits I love, love this dress except for the armpits. if they had just made the armpits...   \n",
       "17943  Awkward sweater I wanted this sweater to work but sadly it failed. first, the pink was way to sh...   \n",
       "11456  Well-made but lacks structure I love the style of this swimsuit on the model. when i purchased i...   \n",
       "14386  Strangely cut Was super excited to try this on, but had to go up 3 sizes from my normal 6 and th...   \n",
       "18681  Feminine and clean Size 8 always, 36c and i have broad shoulders...i found this true to size. th...   \n",
       "\n",
       "                   aspects  \n",
       "8329                 h (e)  \n",
       "17943  p (i), b (a), k (n)  \n",
       "11456  s (t), w (i), l (i)  \n",
       "14386  c (u), w (a), c (u)  \n",
       "18681  S (i), s (i), c (o)  "
      ]
     },
     "metadata": {},
     "output_type": "display_data"
    }
   ],
   "source": [
    "print(\"Loading Aspect-Based Sentiment Analysis model...\")\n",
    "aspect_extractor = ATEPCCheckpointManager.get_aspect_extractor(checkpoint='english')\n",
    "\n",
    "@stopit.threading_timeoutable(default=\"TIMEOUT_ERROR\")\n",
    "def analyze_review_with_timeout(review_text):\n",
    "    \"\"\"Core ABSA logic with a timeout decorator.\"\"\"\n",
    "    result = aspect_extractor.extract_aspect(inference_source=[review_text], print_result=False)\n",
    "    if not result[0]['aspect']:\n",
    "        return \"N/A\"\n",
    "    return \", \".join([f\"{aspect[0]} ({aspect[1]})\" for aspect in result[0]['aspect']])\n",
    "\n",
    "def safe_get_aspects(review_text):\n",
    "    \"\"\"Wrapper function that calls the core logic with a timeout and general error handling.\"\"\"\n",
    "    try:\n",
    "        return analyze_review_with_timeout(review_text, timeout=20)\n",
    "    except Exception as e:\n",
    "        print(f\"--> ABSA FAILED on review: '{review_text[:50]}...' | Error: {e}\")\n",
    "        return \"GENERAL_ERROR\"\n",
    "\n",
    "print(f\"Applying ABSA to the fast sample ({len(df_sample_fast)} reviews)...\")\n",
    "df_sample_fast['aspects'] = df_sample_fast['full_review_text'].progress_apply(safe_get_aspects)\n",
    "print(\"ABSA complete.\")\n",
    "\n",
    "# --- Qualitative Validation & Error Checking ---\n",
    "print(\"\\n--- Qualitative Validation Examples ---\")\n",
    "display(df_sample_fast[df_sample_fast['aspects'] != 'N/A'][['full_review_text', 'aspects']].head())\n",
    "\n",
    "failed_reviews = df_sample_fast[df_sample_fast['aspects'].str.contains(\"ERROR\")]\n",
    "if not failed_reviews.empty:\n",
    "    print(f\"\\nWARNING: {len(failed_reviews)} reviews failed or timed out during ABSA.\")"
   ]
  },
  {
   "cell_type": "markdown",
   "id": "51996fd9",
   "metadata": {},
   "source": [
    "### 4.4. Topic Modeling\n",
    "* **Business Question:** What are the hidden, high-level themes of conversation across all reviews?\n",
    "* **Model Chosen:** `bertopic`\n",
    "* **Justification:** BERTopic leverages transformer embeddings to find semantically coherent topics, which are more interpretable than traditional methods."
   ]
  },
  {
   "cell_type": "code",
   "execution_count": 15,
   "id": "e35d061d",
   "metadata": {},
   "outputs": [
    {
     "name": "stdout",
     "output_type": "stream",
     "text": [
      "Starting Topic Modeling on the larger sample (2000 reviews)...\n",
      "Topic Modeling complete!\n",
      "\n",
      "--- Discovered Topics Summary ---\n"
     ]
    },
    {
     "data": {
      "text/html": [
       "<div>\n",
       "<style scoped>\n",
       "    .dataframe tbody tr th:only-of-type {\n",
       "        vertical-align: middle;\n",
       "    }\n",
       "\n",
       "    .dataframe tbody tr th {\n",
       "        vertical-align: top;\n",
       "    }\n",
       "\n",
       "    .dataframe thead th {\n",
       "        text-align: right;\n",
       "    }\n",
       "</style>\n",
       "<table border=\"1\" class=\"dataframe\">\n",
       "  <thead>\n",
       "    <tr style=\"text-align: right;\">\n",
       "      <th></th>\n",
       "      <th>Topic</th>\n",
       "      <th>Count</th>\n",
       "      <th>Name</th>\n",
       "      <th>Representation</th>\n",
       "      <th>Representative_Docs</th>\n",
       "    </tr>\n",
       "  </thead>\n",
       "  <tbody>\n",
       "    <tr>\n",
       "      <th>0</th>\n",
       "      <td>-1</td>\n",
       "      <td>699</td>\n",
       "      <td>-1_the_it_and_is</td>\n",
       "      <td>[the, it, and, is, this, to, in, dress, but, on]</td>\n",
       "      <td>[ This dress is perfect for spring and early summer. it has some weight to it and so it drapes b...</td>\n",
       "    </tr>\n",
       "    <tr>\n",
       "      <th>1</th>\n",
       "      <td>0</td>\n",
       "      <td>218</td>\n",
       "      <td>0_these_they_them_are</td>\n",
       "      <td>[these, they, them, are, pants, jeans, and, the, fit, in]</td>\n",
       "      <td>[Amazing comfortable pants! I really didn't expect to like these pants as much as i do. i ordere...</td>\n",
       "    </tr>\n",
       "    <tr>\n",
       "      <th>2</th>\n",
       "      <td>1</td>\n",
       "      <td>133</td>\n",
       "      <td>1_sweater_it_the_and</td>\n",
       "      <td>[sweater, it, the, and, this, is, in, to, of, but]</td>\n",
       "      <td>[Terrific sweater with great detail; runs large I ordered the sweater in a medium but it was too...</td>\n",
       "    </tr>\n",
       "    <tr>\n",
       "      <th>3</th>\n",
       "      <td>2</td>\n",
       "      <td>95</td>\n",
       "      <td>2_dress_it_this_the</td>\n",
       "      <td>[dress, it, this, the, is, love, and, to, of, so]</td>\n",
       "      <td>[Beautiful dress! I have had my eye on this dress since the spring (in yellow), but it sold out ...</td>\n",
       "    </tr>\n",
       "    <tr>\n",
       "      <th>4</th>\n",
       "      <td>3</td>\n",
       "      <td>93</td>\n",
       "      <td>3_dress_petite_the_and</td>\n",
       "      <td>[dress, petite, the, and, it, is, this, for, but, am]</td>\n",
       "      <td>[Wonderful dress! I love this dress. i think the cut, fabric and embroidery are all flattering. ...</td>\n",
       "    </tr>\n",
       "    <tr>\n",
       "      <th>5</th>\n",
       "      <td>4</td>\n",
       "      <td>79</td>\n",
       "      <td>4_top_it_is_this</td>\n",
       "      <td>[top, it, is, this, and, the, to, very, of, with]</td>\n",
       "      <td>[ This top is so pretty. the fabric is absolutely gorgeous and the lace on the collar and back a...</td>\n",
       "    </tr>\n",
       "    <tr>\n",
       "      <th>6</th>\n",
       "      <td>5</td>\n",
       "      <td>62</td>\n",
       "      <td>5_jacket_coat_it_and</td>\n",
       "      <td>[jacket, coat, it, and, this, is, the, with, to, like]</td>\n",
       "      <td>[Amazing soft jacket This jacket is so adorable on! i have no idea why retailer styled it with a...</td>\n",
       "    </tr>\n",
       "    <tr>\n",
       "      <th>7</th>\n",
       "      <td>6</td>\n",
       "      <td>60</td>\n",
       "      <td>6_shirt_the_it_this</td>\n",
       "      <td>[shirt, the, it, this, of, and, is, white, on, cute]</td>\n",
       "      <td>[Flowy and casual This shirt is awesome. i absolutely love the style of this shirt! it's super f...</td>\n",
       "    </tr>\n",
       "    <tr>\n",
       "      <th>8</th>\n",
       "      <td>7</td>\n",
       "      <td>58</td>\n",
       "      <td>7_blouse_the_and_it</td>\n",
       "      <td>[blouse, the, and, it, is, this, for, in, of, lovely]</td>\n",
       "      <td>[Gorgeous blouse This is a stunning blouse! you can't tell from the photo, but it looks very 193...</td>\n",
       "    </tr>\n",
       "    <tr>\n",
       "      <th>9</th>\n",
       "      <td>8</td>\n",
       "      <td>56</td>\n",
       "      <td>8_skirt_the_and_it</td>\n",
       "      <td>[skirt, the, and, it, this, to, is, of, as, very]</td>\n",
       "      <td>[ Pros. 1) the color and texture of this skirt are gorgeous. twice as pretty as the photo .\\r\\n2...</td>\n",
       "    </tr>\n",
       "    <tr>\n",
       "      <th>10</th>\n",
       "      <td>9</td>\n",
       "      <td>34</td>\n",
       "      <td>9_suit_bra_size_swimsuit</td>\n",
       "      <td>[suit, bra, size, swimsuit, the, and, support, it, small, so]</td>\n",
       "      <td>[So cute, but not for me This suit is so adorable! i love the retro style and the two patterns a...</td>\n",
       "    </tr>\n",
       "    <tr>\n",
       "      <th>11</th>\n",
       "      <td>10</td>\n",
       "      <td>33</td>\n",
       "      <td>10_runs_size_large_small</td>\n",
       "      <td>[runs, size, large, small, it, ordered, to, and, dress, in]</td>\n",
       "      <td>[Runs very large Lovely dress but runs at least a full size too big., Runs very large! Cute dres...</td>\n",
       "    </tr>\n",
       "    <tr>\n",
       "      <th>12</th>\n",
       "      <td>11</td>\n",
       "      <td>31</td>\n",
       "      <td>11_dress_the_and_was</td>\n",
       "      <td>[dress, the, and, was, to, this, it, for, am, fit]</td>\n",
       "      <td>[Was very excited about this dress This dress is just my style. i have been waiting for it to go...</td>\n",
       "    </tr>\n",
       "    <tr>\n",
       "      <th>13</th>\n",
       "      <td>12</td>\n",
       "      <td>28</td>\n",
       "      <td>12_tunic_and_it_the</td>\n",
       "      <td>[tunic, and, it, the, is, leggings, so, as, with, this]</td>\n",
       "      <td>[Dress it up or down I got this tunic in the bright red, and it is a great, fun color that leans...</td>\n",
       "    </tr>\n",
       "    <tr>\n",
       "      <th>14</th>\n",
       "      <td>13</td>\n",
       "      <td>26</td>\n",
       "      <td>13_soft_is_and_so</td>\n",
       "      <td>[soft, is, and, so, the, it, this, its, to, fabric]</td>\n",
       "      <td>[Super soft and comfortable There's are just what i was looking for! these are perfect in textur...</td>\n",
       "    </tr>\n",
       "    <tr>\n",
       "      <th>15</th>\n",
       "      <td>14</td>\n",
       "      <td>25</td>\n",
       "      <td>14_top_the_it_and</td>\n",
       "      <td>[top, the, it, and, bust, to, but, chest, is, in]</td>\n",
       "      <td>[ I really like this top. i am usually a medium in retailer clothing and so i ordered this in me...</td>\n",
       "    </tr>\n",
       "    <tr>\n",
       "      <th>16</th>\n",
       "      <td>15</td>\n",
       "      <td>25</td>\n",
       "      <td>15_tank_the_top_is</td>\n",
       "      <td>[tank, the, top, is, this, in, and, with, it, have]</td>\n",
       "      <td>[Should have looked more closely at description... This spandex top, in my opinion, is workout w...</td>\n",
       "    </tr>\n",
       "    <tr>\n",
       "      <th>17</th>\n",
       "      <td>16</td>\n",
       "      <td>24</td>\n",
       "      <td>16_xs_an_small_the</td>\n",
       "      <td>[xs, an, small, the, in, was, but, and, shirt, xxs]</td>\n",
       "      <td>[Gorgeous but fitted This was sold out in an xs when i first saw the email. i ended up seeing in...</td>\n",
       "    </tr>\n",
       "    <tr>\n",
       "      <th>18</th>\n",
       "      <td>17</td>\n",
       "      <td>24</td>\n",
       "      <td>17_top_it_this_and</td>\n",
       "      <td>[top, it, this, and, the, love, medium, on, is, for]</td>\n",
       "      <td>[Nice top I would give this top a 4.5. it is a very pretty top, i love the embroidery, but runs ...</td>\n",
       "    </tr>\n",
       "    <tr>\n",
       "      <th>19</th>\n",
       "      <td>18</td>\n",
       "      <td>23</td>\n",
       "      <td>18_boxy_sleeves_top_model</td>\n",
       "      <td>[boxy, sleeves, top, model, the, looks, but, also, are, sleeve]</td>\n",
       "      <td>[Sleeves are a dealbreaker This is literally the most unflattering thing i have ever tried on fr...</td>\n",
       "    </tr>\n",
       "    <tr>\n",
       "      <th>20</th>\n",
       "      <td>19</td>\n",
       "      <td>22</td>\n",
       "      <td>19_dress_it_is_10</td>\n",
       "      <td>[dress, it, is, 10, size, this, ordered, the, and, on]</td>\n",
       "      <td>[Feel like a million bucks in this dress! Hadn't really looked at this dress till i saw it in pe...</td>\n",
       "    </tr>\n",
       "    <tr>\n",
       "      <th>21</th>\n",
       "      <td>20</td>\n",
       "      <td>18</td>\n",
       "      <td>20_cardigan_the_cardi_and</td>\n",
       "      <td>[cardigan, the, cardi, and, it, is, this, with, in, amazing]</td>\n",
       "      <td>[Amazing cardigan - getting tons of compliments! I'm so happy i purchased this cardigan!! every ...</td>\n",
       "    </tr>\n",
       "    <tr>\n",
       "      <th>22</th>\n",
       "      <td>21</td>\n",
       "      <td>18</td>\n",
       "      <td>21_vest_love_and_in</td>\n",
       "      <td>[vest, love, and, in, this, it, so, the, store, is]</td>\n",
       "      <td>[Every vest has different coloration The material is so soft and cozy. there is just enough padd...</td>\n",
       "    </tr>\n",
       "    <tr>\n",
       "      <th>23</th>\n",
       "      <td>22</td>\n",
       "      <td>17</td>\n",
       "      <td>22_summer_dress_perfect_is</td>\n",
       "      <td>[summer, dress, perfect, is, it, spring, this, for, and, the]</td>\n",
       "      <td>[Cool for summer-adorable! It has been a long cold winter and spring...but it is going to get ho...</td>\n",
       "    </tr>\n",
       "    <tr>\n",
       "      <th>24</th>\n",
       "      <td>23</td>\n",
       "      <td>17</td>\n",
       "      <td>23_staple_is_it_great</td>\n",
       "      <td>[staple, is, it, great, flattering, for, and, closet, im, comfy]</td>\n",
       "      <td>[Staple cami This is a tts cami that should be a staple in everyone's closet. great for layering...</td>\n",
       "    </tr>\n",
       "    <tr>\n",
       "      <th>25</th>\n",
       "      <td>24</td>\n",
       "      <td>15</td>\n",
       "      <td>24_romper_jumper_the_and</td>\n",
       "      <td>[romper, jumper, the, and, to, you, this, it, is, wear]</td>\n",
       "      <td>[I wish I wanted this romper so bad, after buying (and loving) a shirt from madewell made with t...</td>\n",
       "    </tr>\n",
       "    <tr>\n",
       "      <th>26</th>\n",
       "      <td>25</td>\n",
       "      <td>14</td>\n",
       "      <td>25_tee_the_its_in</td>\n",
       "      <td>[tee, the, its, in, is, great, medium, and, this, fits]</td>\n",
       "      <td>[The perfect tee! elegant.. I slightly balked at the cost, but i am completely satisfied and glo...</td>\n",
       "    </tr>\n",
       "    <tr>\n",
       "      <th>27</th>\n",
       "      <td>26</td>\n",
       "      <td>14</td>\n",
       "      <td>26_dress_waist_but_the</td>\n",
       "      <td>[dress, waist, but, the, me, pretty, was, on, it, look]</td>\n",
       "      <td>[ I actually love this dress.  the colors on the dark gray are mesmerizing.  the design of the p...</td>\n",
       "    </tr>\n",
       "    <tr>\n",
       "      <th>28</th>\n",
       "      <td>27</td>\n",
       "      <td>14</td>\n",
       "      <td>27_fit_fabric_is_looks</td>\n",
       "      <td>[fit, fabric, is, looks, and, cheap, not, material, returning, white]</td>\n",
       "      <td>[Fits fine - fabric/color not terrific I ordered this in black and white, thinking you can never...</td>\n",
       "    </tr>\n",
       "    <tr>\n",
       "      <th>29</th>\n",
       "      <td>28</td>\n",
       "      <td>13</td>\n",
       "      <td>28_jumpsuit_it_but_short</td>\n",
       "      <td>[jumpsuit, it, but, short, to, the, this, with, petite, and]</td>\n",
       "      <td>[Jumpsuit fever I'm liking this jumpsuit, it's not love but it's definitely a like. i typically ...</td>\n",
       "    </tr>\n",
       "    <tr>\n",
       "      <th>30</th>\n",
       "      <td>29</td>\n",
       "      <td>12</td>\n",
       "      <td>29_top_xs_cute_looks</td>\n",
       "      <td>[top, xs, cute, looks, it, the, and, is, gray, on]</td>\n",
       "      <td>[Love this top! This top is one of my retailer faves! it is so comfortable and love the quality ...</td>\n",
       "    </tr>\n",
       "  </tbody>\n",
       "</table>\n",
       "</div>"
      ],
      "text/plain": [
       "    Topic  Count                        Name  \\\n",
       "0      -1    699            -1_the_it_and_is   \n",
       "1       0    218       0_these_they_them_are   \n",
       "2       1    133        1_sweater_it_the_and   \n",
       "3       2     95         2_dress_it_this_the   \n",
       "4       3     93      3_dress_petite_the_and   \n",
       "5       4     79            4_top_it_is_this   \n",
       "6       5     62        5_jacket_coat_it_and   \n",
       "7       6     60         6_shirt_the_it_this   \n",
       "8       7     58         7_blouse_the_and_it   \n",
       "9       8     56          8_skirt_the_and_it   \n",
       "10      9     34    9_suit_bra_size_swimsuit   \n",
       "11     10     33    10_runs_size_large_small   \n",
       "12     11     31        11_dress_the_and_was   \n",
       "13     12     28         12_tunic_and_it_the   \n",
       "14     13     26           13_soft_is_and_so   \n",
       "15     14     25           14_top_the_it_and   \n",
       "16     15     25          15_tank_the_top_is   \n",
       "17     16     24          16_xs_an_small_the   \n",
       "18     17     24          17_top_it_this_and   \n",
       "19     18     23   18_boxy_sleeves_top_model   \n",
       "20     19     22           19_dress_it_is_10   \n",
       "21     20     18   20_cardigan_the_cardi_and   \n",
       "22     21     18         21_vest_love_and_in   \n",
       "23     22     17  22_summer_dress_perfect_is   \n",
       "24     23     17       23_staple_is_it_great   \n",
       "25     24     15    24_romper_jumper_the_and   \n",
       "26     25     14           25_tee_the_its_in   \n",
       "27     26     14      26_dress_waist_but_the   \n",
       "28     27     14      27_fit_fabric_is_looks   \n",
       "29     28     13    28_jumpsuit_it_but_short   \n",
       "30     29     12        29_top_xs_cute_looks   \n",
       "\n",
       "                                                           Representation  \\\n",
       "0                        [the, it, and, is, this, to, in, dress, but, on]   \n",
       "1               [these, they, them, are, pants, jeans, and, the, fit, in]   \n",
       "2                      [sweater, it, the, and, this, is, in, to, of, but]   \n",
       "3                       [dress, it, this, the, is, love, and, to, of, so]   \n",
       "4                   [dress, petite, the, and, it, is, this, for, but, am]   \n",
       "5                       [top, it, is, this, and, the, to, very, of, with]   \n",
       "6                  [jacket, coat, it, and, this, is, the, with, to, like]   \n",
       "7                    [shirt, the, it, this, of, and, is, white, on, cute]   \n",
       "8                   [blouse, the, and, it, is, this, for, in, of, lovely]   \n",
       "9                       [skirt, the, and, it, this, to, is, of, as, very]   \n",
       "10          [suit, bra, size, swimsuit, the, and, support, it, small, so]   \n",
       "11            [runs, size, large, small, it, ordered, to, and, dress, in]   \n",
       "12                     [dress, the, and, was, to, this, it, for, am, fit]   \n",
       "13                [tunic, and, it, the, is, leggings, so, as, with, this]   \n",
       "14                    [soft, is, and, so, the, it, this, its, to, fabric]   \n",
       "15                      [top, the, it, and, bust, to, but, chest, is, in]   \n",
       "16                    [tank, the, top, is, this, in, and, with, it, have]   \n",
       "17                    [xs, an, small, the, in, was, but, and, shirt, xxs]   \n",
       "18                   [top, it, this, and, the, love, medium, on, is, for]   \n",
       "19        [boxy, sleeves, top, model, the, looks, but, also, are, sleeve]   \n",
       "20                 [dress, it, is, 10, size, this, ordered, the, and, on]   \n",
       "21           [cardigan, the, cardi, and, it, is, this, with, in, amazing]   \n",
       "22                    [vest, love, and, in, this, it, so, the, store, is]   \n",
       "23          [summer, dress, perfect, is, it, spring, this, for, and, the]   \n",
       "24       [staple, is, it, great, flattering, for, and, closet, im, comfy]   \n",
       "25                [romper, jumper, the, and, to, you, this, it, is, wear]   \n",
       "26                [tee, the, its, in, is, great, medium, and, this, fits]   \n",
       "27                [dress, waist, but, the, me, pretty, was, on, it, look]   \n",
       "28  [fit, fabric, is, looks, and, cheap, not, material, returning, white]   \n",
       "29           [jumpsuit, it, but, short, to, the, this, with, petite, and]   \n",
       "30                     [top, xs, cute, looks, it, the, and, is, gray, on]   \n",
       "\n",
       "                                                                                    Representative_Docs  \n",
       "0   [ This dress is perfect for spring and early summer. it has some weight to it and so it drapes b...  \n",
       "1   [Amazing comfortable pants! I really didn't expect to like these pants as much as i do. i ordere...  \n",
       "2   [Terrific sweater with great detail; runs large I ordered the sweater in a medium but it was too...  \n",
       "3   [Beautiful dress! I have had my eye on this dress since the spring (in yellow), but it sold out ...  \n",
       "4   [Wonderful dress! I love this dress. i think the cut, fabric and embroidery are all flattering. ...  \n",
       "5   [ This top is so pretty. the fabric is absolutely gorgeous and the lace on the collar and back a...  \n",
       "6   [Amazing soft jacket This jacket is so adorable on! i have no idea why retailer styled it with a...  \n",
       "7   [Flowy and casual This shirt is awesome. i absolutely love the style of this shirt! it's super f...  \n",
       "8   [Gorgeous blouse This is a stunning blouse! you can't tell from the photo, but it looks very 193...  \n",
       "9   [ Pros. 1) the color and texture of this skirt are gorgeous. twice as pretty as the photo .\\r\\n2...  \n",
       "10  [So cute, but not for me This suit is so adorable! i love the retro style and the two patterns a...  \n",
       "11  [Runs very large Lovely dress but runs at least a full size too big., Runs very large! Cute dres...  \n",
       "12  [Was very excited about this dress This dress is just my style. i have been waiting for it to go...  \n",
       "13  [Dress it up or down I got this tunic in the bright red, and it is a great, fun color that leans...  \n",
       "14  [Super soft and comfortable There's are just what i was looking for! these are perfect in textur...  \n",
       "15  [ I really like this top. i am usually a medium in retailer clothing and so i ordered this in me...  \n",
       "16  [Should have looked more closely at description... This spandex top, in my opinion, is workout w...  \n",
       "17  [Gorgeous but fitted This was sold out in an xs when i first saw the email. i ended up seeing in...  \n",
       "18  [Nice top I would give this top a 4.5. it is a very pretty top, i love the embroidery, but runs ...  \n",
       "19  [Sleeves are a dealbreaker This is literally the most unflattering thing i have ever tried on fr...  \n",
       "20  [Feel like a million bucks in this dress! Hadn't really looked at this dress till i saw it in pe...  \n",
       "21  [Amazing cardigan - getting tons of compliments! I'm so happy i purchased this cardigan!! every ...  \n",
       "22  [Every vest has different coloration The material is so soft and cozy. there is just enough padd...  \n",
       "23  [Cool for summer-adorable! It has been a long cold winter and spring...but it is going to get ho...  \n",
       "24  [Staple cami This is a tts cami that should be a staple in everyone's closet. great for layering...  \n",
       "25  [I wish I wanted this romper so bad, after buying (and loving) a shirt from madewell made with t...  \n",
       "26  [The perfect tee! elegant.. I slightly balked at the cost, but i am completely satisfied and glo...  \n",
       "27  [ I actually love this dress.  the colors on the dark gray are mesmerizing.  the design of the p...  \n",
       "28  [Fits fine - fabric/color not terrific I ordered this in black and white, thinking you can never...  \n",
       "29  [Jumpsuit fever I'm liking this jumpsuit, it's not love but it's definitely a like. i typically ...  \n",
       "30  [Love this top! This top is one of my retailer faves! it is so comfortable and love the quality ...  "
      ]
     },
     "metadata": {},
     "output_type": "display_data"
    }
   ],
   "source": [
    "print(f\"Starting Topic Modeling on the larger sample ({len(df_sample_topic)} reviews)...\")\n",
    "docs = df_sample_topic['full_review_text'].tolist()\n",
    "\n",
    "# Initialize and fit the BERTopic model\n",
    "topic_model = BERTopic(language=\"english\", verbose=False)\n",
    "topics, probs = topic_model.fit_transform(docs)\n",
    "\n",
    "print(\"Topic Modeling complete!\")\n",
    "\n",
    "# --- Qualitative Validation ---\n",
    "print(\"\\n--- Discovered Topics Summary ---\")\n",
    "# Display a summary of the most prominent topics. Topic -1 contains outliers and can be ignored.\n",
    "display(topic_model.get_topic_info())"
   ]
  },
  {
   "cell_type": "markdown",
   "id": "c05c3f99",
   "metadata": {},
   "source": [
    "## 5. Final Result & Conclusion\n",
    "The sample DataFrame is now fully enriched with insights from all AI models. This validated logic is ready to be integrated into the production Lambda functions. The final data structure provides a multi-dimensional view of each customer review, enabling a rich, interactive analysis on the final dashboard."
   ]
  },
  {
   "cell_type": "code",
   "execution_count": 16,
   "id": "5cf839d3",
   "metadata": {},
   "outputs": [
    {
     "name": "stdout",
     "output_type": "stream",
     "text": [
      "--- Final Enriched Sample DataFrame (from fast sample) ---\n"
     ]
    },
    {
     "data": {
      "text/html": [
       "<div>\n",
       "<style scoped>\n",
       "    .dataframe tbody tr th:only-of-type {\n",
       "        vertical-align: middle;\n",
       "    }\n",
       "\n",
       "    .dataframe tbody tr th {\n",
       "        vertical-align: top;\n",
       "    }\n",
       "\n",
       "    .dataframe thead th {\n",
       "        text-align: right;\n",
       "    }\n",
       "</style>\n",
       "<table border=\"1\" class=\"dataframe\">\n",
       "  <thead>\n",
       "    <tr style=\"text-align: right;\">\n",
       "      <th></th>\n",
       "      <th>full_review_text</th>\n",
       "      <th>sentiment_prediction</th>\n",
       "      <th>zero_shot_topic</th>\n",
       "      <th>aspects</th>\n",
       "      <th>Rating</th>\n",
       "      <th>true_sentiment</th>\n",
       "    </tr>\n",
       "  </thead>\n",
       "  <tbody>\n",
       "    <tr>\n",
       "      <th>8329</th>\n",
       "      <td>Change armpits I love, love this dress except for the armpits. if they had just made the armpits...</td>\n",
       "      <td>NEGATIVE</td>\n",
       "      <td>fit</td>\n",
       "      <td>h (e)</td>\n",
       "      <td>4</td>\n",
       "      <td>POSITIVE</td>\n",
       "    </tr>\n",
       "    <tr>\n",
       "      <th>17943</th>\n",
       "      <td>Awkward sweater I wanted this sweater to work but sadly it failed. first, the pink was way to sh...</td>\n",
       "      <td>NEGATIVE</td>\n",
       "      <td>fabric</td>\n",
       "      <td>p (i), b (a), k (n)</td>\n",
       "      <td>2</td>\n",
       "      <td>NEGATIVE</td>\n",
       "    </tr>\n",
       "    <tr>\n",
       "      <th>2157</th>\n",
       "      <td>Best. tee. ever. Oh my! i love this tee. it is super soft. i love how it doesn't look like a sac...</td>\n",
       "      <td>POSITIVE</td>\n",
       "      <td>quality</td>\n",
       "      <td>N/A</td>\n",
       "      <td>5</td>\n",
       "      <td>POSITIVE</td>\n",
       "    </tr>\n",
       "    <tr>\n",
       "      <th>11456</th>\n",
       "      <td>Well-made but lacks structure I love the style of this swimsuit on the model. when i purchased i...</td>\n",
       "      <td>NEGATIVE</td>\n",
       "      <td>quality</td>\n",
       "      <td>s (t), w (i), l (i)</td>\n",
       "      <td>3</td>\n",
       "      <td>NEGATIVE</td>\n",
       "    </tr>\n",
       "    <tr>\n",
       "      <th>14386</th>\n",
       "      <td>Strangely cut Was super excited to try this on, but had to go up 3 sizes from my normal 6 and th...</td>\n",
       "      <td>NEGATIVE</td>\n",
       "      <td>quality</td>\n",
       "      <td>c (u), w (a), c (u)</td>\n",
       "      <td>2</td>\n",
       "      <td>NEGATIVE</td>\n",
       "    </tr>\n",
       "    <tr>\n",
       "      <th>18681</th>\n",
       "      <td>Feminine and clean Size 8 always, 36c and i have broad shoulders...i found this true to size. th...</td>\n",
       "      <td>POSITIVE</td>\n",
       "      <td>fit</td>\n",
       "      <td>S (i), s (i), c (o)</td>\n",
       "      <td>5</td>\n",
       "      <td>POSITIVE</td>\n",
       "    </tr>\n",
       "    <tr>\n",
       "      <th>4124</th>\n",
       "      <td>So comfortable I love the style of this dress, comfortable but chic, and it feels great!</td>\n",
       "      <td>POSITIVE</td>\n",
       "      <td>quality</td>\n",
       "      <td>s (t)</td>\n",
       "      <td>5</td>\n",
       "      <td>POSITIVE</td>\n",
       "    </tr>\n",
       "    <tr>\n",
       "      <th>7991</th>\n",
       "      <td>Perfect lwd! This is perfect! it fits tts. i am usually an 8 and this was spot on. it isn't too ...</td>\n",
       "      <td>POSITIVE</td>\n",
       "      <td>fit</td>\n",
       "      <td>l (w), f (i), h (u)</td>\n",
       "      <td>5</td>\n",
       "      <td>POSITIVE</td>\n",
       "    </tr>\n",
       "    <tr>\n",
       "      <th>8409</th>\n",
       "      <td>Yessssss!!!!! A culotte and basketball short hybrid. these culottes are heaven....very comfortab...</td>\n",
       "      <td>POSITIVE</td>\n",
       "      <td>quality</td>\n",
       "      <td>c (u), w (a), b (a)</td>\n",
       "      <td>5</td>\n",
       "      <td>POSITIVE</td>\n",
       "    </tr>\n",
       "    <tr>\n",
       "      <th>21423</th>\n",
       "      <td>Love the color Love the color and the design. it is slightly see-through which i don't like but ...</td>\n",
       "      <td>POSITIVE</td>\n",
       "      <td>quality</td>\n",
       "      <td>c (o), c (o), d (e)</td>\n",
       "      <td>5</td>\n",
       "      <td>POSITIVE</td>\n",
       "    </tr>\n",
       "  </tbody>\n",
       "</table>\n",
       "</div>"
      ],
      "text/plain": [
       "                                                                                          full_review_text  \\\n",
       "8329   Change armpits I love, love this dress except for the armpits. if they had just made the armpits...   \n",
       "17943  Awkward sweater I wanted this sweater to work but sadly it failed. first, the pink was way to sh...   \n",
       "2157   Best. tee. ever. Oh my! i love this tee. it is super soft. i love how it doesn't look like a sac...   \n",
       "11456  Well-made but lacks structure I love the style of this swimsuit on the model. when i purchased i...   \n",
       "14386  Strangely cut Was super excited to try this on, but had to go up 3 sizes from my normal 6 and th...   \n",
       "18681  Feminine and clean Size 8 always, 36c and i have broad shoulders...i found this true to size. th...   \n",
       "4124              So comfortable I love the style of this dress, comfortable but chic, and it feels great!   \n",
       "7991   Perfect lwd! This is perfect! it fits tts. i am usually an 8 and this was spot on. it isn't too ...   \n",
       "8409   Yessssss!!!!! A culotte and basketball short hybrid. these culottes are heaven....very comfortab...   \n",
       "21423  Love the color Love the color and the design. it is slightly see-through which i don't like but ...   \n",
       "\n",
       "      sentiment_prediction zero_shot_topic              aspects  Rating  \\\n",
       "8329              NEGATIVE             fit                h (e)       4   \n",
       "17943             NEGATIVE          fabric  p (i), b (a), k (n)       2   \n",
       "2157              POSITIVE         quality                  N/A       5   \n",
       "11456             NEGATIVE         quality  s (t), w (i), l (i)       3   \n",
       "14386             NEGATIVE         quality  c (u), w (a), c (u)       2   \n",
       "18681             POSITIVE             fit  S (i), s (i), c (o)       5   \n",
       "4124              POSITIVE         quality                s (t)       5   \n",
       "7991              POSITIVE             fit  l (w), f (i), h (u)       5   \n",
       "8409              POSITIVE         quality  c (u), w (a), b (a)       5   \n",
       "21423             POSITIVE         quality  c (o), c (o), d (e)       5   \n",
       "\n",
       "      true_sentiment  \n",
       "8329        POSITIVE  \n",
       "17943       NEGATIVE  \n",
       "2157        POSITIVE  \n",
       "11456       NEGATIVE  \n",
       "14386       NEGATIVE  \n",
       "18681       POSITIVE  \n",
       "4124        POSITIVE  \n",
       "7991        POSITIVE  \n",
       "8409        POSITIVE  \n",
       "21423       POSITIVE  "
      ]
     },
     "metadata": {},
     "output_type": "display_data"
    }
   ],
   "source": [
    "# Select and reorder columns for a clean final view\n",
    "# Note: 'bertopic_id' is not in this fast sample; it's a corpus-level insight.\n",
    "final_columns = [\n",
    "    'full_review_text', \n",
    "    'sentiment_prediction', \n",
    "    'zero_shot_topic',\n",
    "    'aspects',\n",
    "    'Rating',\n",
    "    'true_sentiment'\n",
    "]\n",
    "\n",
    "print(\"--- Final Enriched Sample DataFrame (from fast sample) ---\")\n",
    "display(df_sample_fast[final_columns].head(10))"
   ]
  }
 ],
 "metadata": {
  "kernelspec": {
   "display_name": ".venv",
   "language": "python",
   "name": "python3"
  },
  "language_info": {
   "codemirror_mode": {
    "name": "ipython",
    "version": 3
   },
   "file_extension": ".py",
   "mimetype": "text/x-python",
   "name": "python",
   "nbconvert_exporter": "python",
   "pygments_lexer": "ipython3",
   "version": "3.11.9"
  }
 },
 "nbformat": 4,
 "nbformat_minor": 5
}
